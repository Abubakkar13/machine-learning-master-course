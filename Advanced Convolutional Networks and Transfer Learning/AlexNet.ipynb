{
 "cells": [
  {
   "cell_type": "markdown",
   "metadata": {},
   "source": [
    "# Implementing the AlexNet Architecture"
   ]
  },
  {
   "cell_type": "code",
   "execution_count": 37,
   "metadata": {},
   "outputs": [],
   "source": [
    "import keras\n",
    "from keras.models import Sequential\n",
    "from keras.layers import *\n",
    "from keras.layers.normalization import BatchNormalization"
   ]
  },
  {
   "cell_type": "code",
   "execution_count": 24,
   "metadata": {},
   "outputs": [],
   "source": [
    "import numpy as np"
   ]
  },
  {
   "cell_type": "code",
   "execution_count": 25,
   "metadata": {},
   "outputs": [],
   "source": [
    "import tflearn.datasets.oxflower17 as oxflower17\n",
    "import tensorflow"
   ]
  },
  {
   "cell_type": "code",
   "execution_count": 60,
   "metadata": {},
   "outputs": [],
   "source": [
    "x, y = oxflower17.load_data(one_hot=True)"
   ]
  },
  {
   "cell_type": "code",
   "execution_count": 61,
   "metadata": {},
   "outputs": [],
   "source": [
    "model = Sequential()"
   ]
  },
  {
   "cell_type": "code",
   "execution_count": 62,
   "metadata": {},
   "outputs": [],
   "source": [
    "model.add(Conv2D(filters=96, input_shape = (224, 224, 3), kernel_size = (11, 11), strides = (4, 4), padding = 'valid'))"
   ]
  },
  {
   "cell_type": "code",
   "execution_count": 63,
   "metadata": {},
   "outputs": [],
   "source": [
    "model.add(Activation('relu'))"
   ]
  },
  {
   "cell_type": "code",
   "execution_count": 64,
   "metadata": {},
   "outputs": [],
   "source": [
    "model.add(MaxPool2D(pool_size=(2, 2), strides = (2, 2), padding = 'valid'))"
   ]
  },
  {
   "cell_type": "code",
   "execution_count": 65,
   "metadata": {},
   "outputs": [],
   "source": [
    "model.add(BatchNormalization())"
   ]
  },
  {
   "cell_type": "code",
   "execution_count": 66,
   "metadata": {},
   "outputs": [],
   "source": [
    "model.add(Conv2D(filters=256, kernel_size = (11, 11), strides = (1, 1), padding = 'valid'))"
   ]
  },
  {
   "cell_type": "code",
   "execution_count": 67,
   "metadata": {},
   "outputs": [],
   "source": [
    "model.add(Activation('relu'))"
   ]
  },
  {
   "cell_type": "code",
   "execution_count": 68,
   "metadata": {},
   "outputs": [],
   "source": [
    "model.add(MaxPool2D(pool_size=(2, 2), strides = (2, 2), padding = 'valid'))\n",
    "model.add(BatchNormalization())"
   ]
  },
  {
   "cell_type": "code",
   "execution_count": 69,
   "metadata": {},
   "outputs": [],
   "source": [
    "model.add(Conv2D(filters=384, kernel_size = (3, 3), strides = (1, 1), padding = 'valid'))\n",
    "model.add(Activation('relu'))\n",
    "model.add(BatchNormalization())"
   ]
  },
  {
   "cell_type": "code",
   "execution_count": 70,
   "metadata": {},
   "outputs": [],
   "source": [
    "model.add(Conv2D(filters=384, kernel_size = (3, 3), strides = (1, 1), padding = 'valid'))\n",
    "model.add(Activation('relu'))\n",
    "model.add(BatchNormalization())"
   ]
  },
  {
   "cell_type": "code",
   "execution_count": 71,
   "metadata": {},
   "outputs": [],
   "source": [
    "model.add(Conv2D(filters=256, kernel_size = (3, 3), strides = (1, 1), padding = 'valid'))\n",
    "model.add(Activation('relu'))\n",
    "model.add(MaxPool2D(pool_size=(2, 2), strides = (2, 2), padding = 'valid'))\n",
    "model.add(BatchNormalization())"
   ]
  },
  {
   "cell_type": "code",
   "execution_count": 72,
   "metadata": {},
   "outputs": [],
   "source": [
    "model.add(Flatten())"
   ]
  },
  {
   "cell_type": "code",
   "execution_count": 74,
   "metadata": {},
   "outputs": [],
   "source": [
    "model.add(Dense(4096, input_shape=(224*224*3,)))\n",
    "model.add(Activation('relu'))"
   ]
  },
  {
   "cell_type": "code",
   "execution_count": 75,
   "metadata": {},
   "outputs": [],
   "source": [
    "model.add(Dropout(0.4))"
   ]
  },
  {
   "cell_type": "code",
   "execution_count": 76,
   "metadata": {},
   "outputs": [],
   "source": [
    "model.add(BatchNormalization())"
   ]
  },
  {
   "cell_type": "code",
   "execution_count": 77,
   "metadata": {},
   "outputs": [],
   "source": [
    "model.add(Dense(4096))\n",
    "model.add(Activation('relu'))\n",
    "model.add(Dropout(0.4))"
   ]
  },
  {
   "cell_type": "code",
   "execution_count": 78,
   "metadata": {},
   "outputs": [],
   "source": [
    "model.add(BatchNormalization())"
   ]
  },
  {
   "cell_type": "code",
   "execution_count": 79,
   "metadata": {},
   "outputs": [],
   "source": [
    "model.add(Dense(1000))\n",
    "model.add(Activation('relu'))\n",
    "model.add(Dropout(0.4))\n",
    "model.add(BatchNormalization())"
   ]
  },
  {
   "cell_type": "code",
   "execution_count": 81,
   "metadata": {},
   "outputs": [],
   "source": [
    "# Output Layer\n",
    "model.add(Dense(17))\n",
    "model.add(Activation('softmax'))"
   ]
  },
  {
   "cell_type": "code",
   "execution_count": 82,
   "metadata": {},
   "outputs": [
    {
     "name": "stdout",
     "output_type": "stream",
     "text": [
      "Model: \"sequential_3\"\n",
      "_________________________________________________________________\n",
      "Layer (type)                 Output Shape              Param #   \n",
      "=================================================================\n",
      "conv2d_9 (Conv2D)            (None, 54, 54, 96)        34944     \n",
      "_________________________________________________________________\n",
      "activation_6 (Activation)    (None, 54, 54, 96)        0         \n",
      "_________________________________________________________________\n",
      "max_pooling2d_6 (MaxPooling2 (None, 27, 27, 96)        0         \n",
      "_________________________________________________________________\n",
      "batch_normalization_5 (Batch (None, 27, 27, 96)        384       \n",
      "_________________________________________________________________\n",
      "conv2d_10 (Conv2D)           (None, 17, 17, 256)       2973952   \n",
      "_________________________________________________________________\n",
      "activation_7 (Activation)    (None, 17, 17, 256)       0         \n",
      "_________________________________________________________________\n",
      "max_pooling2d_7 (MaxPooling2 (None, 8, 8, 256)         0         \n",
      "_________________________________________________________________\n",
      "batch_normalization_6 (Batch (None, 8, 8, 256)         1024      \n",
      "_________________________________________________________________\n",
      "conv2d_11 (Conv2D)           (None, 6, 6, 384)         885120    \n",
      "_________________________________________________________________\n",
      "activation_8 (Activation)    (None, 6, 6, 384)         0         \n",
      "_________________________________________________________________\n",
      "batch_normalization_7 (Batch (None, 6, 6, 384)         1536      \n",
      "_________________________________________________________________\n",
      "conv2d_12 (Conv2D)           (None, 4, 4, 384)         1327488   \n",
      "_________________________________________________________________\n",
      "activation_9 (Activation)    (None, 4, 4, 384)         0         \n",
      "_________________________________________________________________\n",
      "batch_normalization_8 (Batch (None, 4, 4, 384)         1536      \n",
      "_________________________________________________________________\n",
      "conv2d_13 (Conv2D)           (None, 2, 2, 256)         884992    \n",
      "_________________________________________________________________\n",
      "activation_10 (Activation)   (None, 2, 2, 256)         0         \n",
      "_________________________________________________________________\n",
      "max_pooling2d_8 (MaxPooling2 (None, 1, 1, 256)         0         \n",
      "_________________________________________________________________\n",
      "batch_normalization_9 (Batch (None, 1, 1, 256)         1024      \n",
      "_________________________________________________________________\n",
      "flatten_1 (Flatten)          (None, 256)               0         \n",
      "_________________________________________________________________\n",
      "dense_2 (Dense)              (None, 4096)              1052672   \n",
      "_________________________________________________________________\n",
      "activation_11 (Activation)   (None, 4096)              0         \n",
      "_________________________________________________________________\n",
      "dropout_1 (Dropout)          (None, 4096)              0         \n",
      "_________________________________________________________________\n",
      "batch_normalization_10 (Batc (None, 4096)              16384     \n",
      "_________________________________________________________________\n",
      "dense_3 (Dense)              (None, 4096)              16781312  \n",
      "_________________________________________________________________\n",
      "activation_12 (Activation)   (None, 4096)              0         \n",
      "_________________________________________________________________\n",
      "dropout_2 (Dropout)          (None, 4096)              0         \n",
      "_________________________________________________________________\n",
      "batch_normalization_11 (Batc (None, 4096)              16384     \n",
      "_________________________________________________________________\n",
      "dense_4 (Dense)              (None, 1000)              4097000   \n",
      "_________________________________________________________________\n",
      "activation_13 (Activation)   (None, 1000)              0         \n",
      "_________________________________________________________________\n",
      "dropout_3 (Dropout)          (None, 1000)              0         \n",
      "_________________________________________________________________\n",
      "batch_normalization_12 (Batc (None, 1000)              4000      \n",
      "_________________________________________________________________\n",
      "dense_5 (Dense)              (None, 17)                17017     \n",
      "_________________________________________________________________\n",
      "dense_6 (Dense)              (None, 17)                306       \n",
      "_________________________________________________________________\n",
      "activation_14 (Activation)   (None, 17)                0         \n",
      "=================================================================\n",
      "Total params: 28,097,075\n",
      "Trainable params: 28,075,939\n",
      "Non-trainable params: 21,136\n",
      "_________________________________________________________________\n"
     ]
    }
   ],
   "source": [
    "model.summary()"
   ]
  },
  {
   "cell_type": "code",
   "execution_count": 84,
   "metadata": {},
   "outputs": [],
   "source": [
    "model.compile(loss='categorical_crossentropy', optimizer = 'adam', metrics = ['accuracy'])"
   ]
  },
  {
   "cell_type": "code",
   "execution_count": 86,
   "metadata": {},
   "outputs": [
    {
     "name": "stdout",
     "output_type": "stream",
     "text": [
      "Train on 1088 samples, validate on 272 samples\n",
      "Epoch 1/40\n",
      "1088/1088 [==============================] - 62s 57ms/step - loss: 2.2518 - accuracy: 0.3474 - val_loss: 86.3056 - val_accuracy: 0.0625\n",
      "Epoch 2/40\n",
      "1088/1088 [==============================] - 38s 35ms/step - loss: 1.8153 - accuracy: 0.4182 - val_loss: 13.3293 - val_accuracy: 0.1176\n",
      "Epoch 3/40\n",
      "1088/1088 [==============================] - 39s 36ms/step - loss: 1.5828 - accuracy: 0.4853 - val_loss: 9.1207 - val_accuracy: 0.1397\n",
      "Epoch 4/40\n",
      "1088/1088 [==============================] - 44s 41ms/step - loss: 1.4521 - accuracy: 0.5267 - val_loss: 3.5443 - val_accuracy: 0.2316\n",
      "Epoch 5/40\n",
      "1088/1088 [==============================] - 39s 36ms/step - loss: 1.4107 - accuracy: 0.5267 - val_loss: 2.2452 - val_accuracy: 0.3125\n",
      "Epoch 6/40\n",
      "1088/1088 [==============================] - 39s 36ms/step - loss: 1.2107 - accuracy: 0.5873 - val_loss: 3.8765 - val_accuracy: 0.2316\n",
      "Epoch 7/40\n",
      "1088/1088 [==============================] - 35s 32ms/step - loss: 1.0806 - accuracy: 0.6259 - val_loss: 3.9730 - val_accuracy: 0.2868\n",
      "Epoch 8/40\n",
      "1088/1088 [==============================] - 34s 32ms/step - loss: 1.0503 - accuracy: 0.6333 - val_loss: 2.4336 - val_accuracy: 0.3529\n",
      "Epoch 9/40\n",
      "1088/1088 [==============================] - 34s 31ms/step - loss: 0.9621 - accuracy: 0.6857 - val_loss: 3.7908 - val_accuracy: 0.3051\n",
      "Epoch 10/40\n",
      "1088/1088 [==============================] - 36s 33ms/step - loss: 0.9227 - accuracy: 0.7077 - val_loss: 2.2176 - val_accuracy: 0.4154\n",
      "Epoch 11/40\n",
      "1088/1088 [==============================] - 34s 31ms/step - loss: 0.7615 - accuracy: 0.7463 - val_loss: 2.5282 - val_accuracy: 0.3897\n",
      "Epoch 12/40\n",
      "1088/1088 [==============================] - 34s 31ms/step - loss: 0.7329 - accuracy: 0.7592 - val_loss: 5.0037 - val_accuracy: 0.2757\n",
      "Epoch 13/40\n",
      "1088/1088 [==============================] - 33s 31ms/step - loss: 0.7679 - accuracy: 0.7371 - val_loss: 3.2850 - val_accuracy: 0.3162\n",
      "Epoch 14/40\n",
      "1088/1088 [==============================] - 33s 31ms/step - loss: 0.7316 - accuracy: 0.7463 - val_loss: 2.8440 - val_accuracy: 0.4118\n",
      "Epoch 15/40\n",
      "1088/1088 [==============================] - 34s 31ms/step - loss: 0.6002 - accuracy: 0.7914 - val_loss: 3.2155 - val_accuracy: 0.3934\n",
      "Epoch 16/40\n",
      "1088/1088 [==============================] - 33s 30ms/step - loss: 0.4878 - accuracy: 0.8290 - val_loss: 2.3229 - val_accuracy: 0.4743\n",
      "Epoch 17/40\n",
      "1088/1088 [==============================] - 33s 31ms/step - loss: 0.3813 - accuracy: 0.8667 - val_loss: 2.7384 - val_accuracy: 0.5000\n",
      "Epoch 18/40\n",
      "1088/1088 [==============================] - 34s 31ms/step - loss: 0.3865 - accuracy: 0.8676 - val_loss: 2.5730 - val_accuracy: 0.4816\n",
      "Epoch 19/40\n",
      "1088/1088 [==============================] - 33s 30ms/step - loss: 0.3879 - accuracy: 0.8511 - val_loss: 2.8222 - val_accuracy: 0.4890\n",
      "Epoch 20/40\n",
      "1088/1088 [==============================] - 33s 30ms/step - loss: 0.3183 - accuracy: 0.8879 - val_loss: 3.6937 - val_accuracy: 0.4338\n",
      "Epoch 21/40\n",
      "1088/1088 [==============================] - 33s 30ms/step - loss: 0.3035 - accuracy: 0.8998 - val_loss: 5.6374 - val_accuracy: 0.3640\n",
      "Epoch 22/40\n",
      "1088/1088 [==============================] - 33s 31ms/step - loss: 0.3270 - accuracy: 0.8915 - val_loss: 3.8477 - val_accuracy: 0.4559\n",
      "Epoch 23/40\n",
      "1088/1088 [==============================] - 33s 30ms/step - loss: 0.2732 - accuracy: 0.9090 - val_loss: 4.5470 - val_accuracy: 0.3934\n",
      "Epoch 24/40\n",
      "1088/1088 [==============================] - 27s 25ms/step - loss: 0.2642 - accuracy: 0.9182 - val_loss: 3.9462 - val_accuracy: 0.4118\n",
      "Epoch 25/40\n",
      "1088/1088 [==============================] - 29s 27ms/step - loss: 0.2425 - accuracy: 0.9191 - val_loss: 3.5542 - val_accuracy: 0.4632\n",
      "Epoch 26/40\n",
      "1088/1088 [==============================] - 31s 29ms/step - loss: 0.2600 - accuracy: 0.9108 - val_loss: 4.9535 - val_accuracy: 0.3897\n",
      "Epoch 27/40\n",
      "1088/1088 [==============================] - 29s 27ms/step - loss: 0.2018 - accuracy: 0.9412 - val_loss: 3.3457 - val_accuracy: 0.4375\n",
      "Epoch 28/40\n",
      "1088/1088 [==============================] - 30s 27ms/step - loss: 0.1656 - accuracy: 0.9430 - val_loss: 4.3746 - val_accuracy: 0.4228\n",
      "Epoch 29/40\n",
      "1088/1088 [==============================] - 30s 27ms/step - loss: 0.1525 - accuracy: 0.9449 - val_loss: 3.9082 - val_accuracy: 0.4007\n",
      "Epoch 30/40\n",
      "1088/1088 [==============================] - 30s 27ms/step - loss: 0.1337 - accuracy: 0.9522 - val_loss: 3.4479 - val_accuracy: 0.4485\n",
      "Epoch 31/40\n",
      "1088/1088 [==============================] - 29s 26ms/step - loss: 0.1294 - accuracy: 0.9596 - val_loss: 3.1148 - val_accuracy: 0.5000\n",
      "Epoch 32/40\n",
      "1088/1088 [==============================] - 30s 27ms/step - loss: 0.2019 - accuracy: 0.9347 - val_loss: 3.5554 - val_accuracy: 0.5184\n",
      "Epoch 33/40\n",
      "1088/1088 [==============================] - 29s 27ms/step - loss: 0.1379 - accuracy: 0.9531 - val_loss: 4.3955 - val_accuracy: 0.4338\n",
      "Epoch 34/40\n",
      "1088/1088 [==============================] - 30s 27ms/step - loss: 0.1779 - accuracy: 0.9449 - val_loss: 4.5925 - val_accuracy: 0.4522\n",
      "Epoch 35/40\n",
      "1088/1088 [==============================] - 31s 29ms/step - loss: 0.1502 - accuracy: 0.9522 - val_loss: 3.4702 - val_accuracy: 0.4779\n",
      "Epoch 36/40\n",
      "1088/1088 [==============================] - 37s 34ms/step - loss: 0.1414 - accuracy: 0.9540 - val_loss: 3.0268 - val_accuracy: 0.5294\n",
      "Epoch 37/40\n",
      "1088/1088 [==============================] - 35s 32ms/step - loss: 0.1031 - accuracy: 0.9669 - val_loss: 4.4265 - val_accuracy: 0.4044\n",
      "Epoch 38/40\n",
      "1088/1088 [==============================] - 35s 32ms/step - loss: 0.0775 - accuracy: 0.9752 - val_loss: 3.3599 - val_accuracy: 0.4706\n",
      "Epoch 39/40\n",
      "1088/1088 [==============================] - 35s 32ms/step - loss: 0.0768 - accuracy: 0.9807 - val_loss: 3.0156 - val_accuracy: 0.5331\n",
      "Epoch 40/40\n",
      "1088/1088 [==============================] - 37s 34ms/step - loss: 0.1008 - accuracy: 0.9651 - val_loss: 3.3467 - val_accuracy: 0.5294\n"
     ]
    },
    {
     "data": {
      "text/plain": [
       "<keras.callbacks.callbacks.History at 0x14a3deda0>"
      ]
     },
     "execution_count": 86,
     "metadata": {},
     "output_type": "execute_result"
    }
   ],
   "source": [
    "model.fit(x, y, batch_size=64, epochs=40, verbose=1, validation_split=0.2, shuffle=True)"
   ]
  },
  {
   "cell_type": "code",
   "execution_count": null,
   "metadata": {},
   "outputs": [],
   "source": []
  }
 ],
 "metadata": {
  "kernelspec": {
   "display_name": "Python 3",
   "language": "python",
   "name": "python3"
  },
  "language_info": {
   "codemirror_mode": {
    "name": "ipython",
    "version": 3
   },
   "file_extension": ".py",
   "mimetype": "text/x-python",
   "name": "python",
   "nbconvert_exporter": "python",
   "pygments_lexer": "ipython3",
   "version": "3.7.3"
  }
 },
 "nbformat": 4,
 "nbformat_minor": 2
}
