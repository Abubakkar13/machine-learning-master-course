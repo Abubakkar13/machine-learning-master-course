{
  "nbformat": 4,
  "nbformat_minor": 0,
  "metadata": {
    "colab": {
      "name": "MNIST-CNN",
      "provenance": [],
      "collapsed_sections": [],
      "include_colab_link": true
    },
    "kernelspec": {
      "name": "python3",
      "display_name": "Python 3"
    }
  },
  "cells": [
    {
      "cell_type": "markdown",
      "metadata": {
        "id": "view-in-github",
        "colab_type": "text"
      },
      "source": [
        "<a href=\"https://colab.research.google.com/github/advaitjk/machine-learning-master-course/blob/master/MNIST_CNN.ipynb\" target=\"_parent\"><img src=\"https://colab.research.google.com/assets/colab-badge.svg\" alt=\"Open In Colab\"/></a>"
      ]
    },
    {
      "cell_type": "markdown",
      "metadata": {
        "id": "iVtBPk3e0HTy",
        "colab_type": "text"
      },
      "source": [
        "# Advanced Convolutional Neural Networks\n",
        "\n",
        "### Building a Small Convolutional Neural Network to classify the MNIST Handwritten Digits Dataset"
      ]
    },
    {
      "cell_type": "code",
      "metadata": {
        "id": "-u9_v58b0XAr",
        "colab_type": "code",
        "outputId": "d668a5d5-cc78-4736-ad3f-95a1ba31bbc0",
        "colab": {
          "base_uri": "https://localhost:8080/",
          "height": 80
        }
      },
      "source": [
        "from keras.layers import *"
      ],
      "execution_count": 0,
      "outputs": [
        {
          "output_type": "stream",
          "text": [
            "Using TensorFlow backend.\n"
          ],
          "name": "stderr"
        },
        {
          "output_type": "display_data",
          "data": {
            "text/html": [
              "<p style=\"color: red;\">\n",
              "The default version of TensorFlow in Colab will soon switch to TensorFlow 2.x.<br>\n",
              "We recommend you <a href=\"https://www.tensorflow.org/guide/migrate\" target=\"_blank\">upgrade</a> now \n",
              "or ensure your notebook will continue to use TensorFlow 1.x via the <code>%tensorflow_version 1.x</code> magic:\n",
              "<a href=\"https://colab.research.google.com/notebooks/tensorflow_version.ipynb\" target=\"_blank\">more info</a>.</p>\n"
            ],
            "text/plain": [
              "<IPython.core.display.HTML object>"
            ]
          },
          "metadata": {
            "tags": []
          }
        }
      ]
    },
    {
      "cell_type": "code",
      "metadata": {
        "id": "lYDY3MV40iPA",
        "colab_type": "code",
        "colab": {}
      },
      "source": [
        "from keras.models import Sequential"
      ],
      "execution_count": 0,
      "outputs": []
    },
    {
      "cell_type": "code",
      "metadata": {
        "id": "ViV1-l7k02Yn",
        "colab_type": "code",
        "colab": {}
      },
      "source": [
        "model = Sequential()\n",
        "model.add(Conv2D(32, (3, 3), activation='relu', input_shape = (28, 28, 1)))"
      ],
      "execution_count": 0,
      "outputs": []
    },
    {
      "cell_type": "code",
      "metadata": {
        "id": "OVQHOXuu1Fi5",
        "colab_type": "code",
        "colab": {}
      },
      "source": [
        "# model.add(MaxPool2D((2, 2)))"
      ],
      "execution_count": 0,
      "outputs": []
    },
    {
      "cell_type": "code",
      "metadata": {
        "id": "xxeG44H21PX_",
        "colab_type": "code",
        "colab": {}
      },
      "source": [
        "model.add(Conv2D(64, (3, 3), activation='relu'))"
      ],
      "execution_count": 0,
      "outputs": []
    },
    {
      "cell_type": "code",
      "metadata": {
        "id": "zscU2NST1cUw",
        "colab_type": "code",
        "colab": {}
      },
      "source": [
        "# model.add(MaxPool2D((2, 2)))"
      ],
      "execution_count": 0,
      "outputs": []
    },
    {
      "cell_type": "code",
      "metadata": {
        "id": "kZhXQMgI1jb1",
        "colab_type": "code",
        "colab": {}
      },
      "source": [
        "model.add(Conv2D(64, (3, 3), activation='relu'))"
      ],
      "execution_count": 0,
      "outputs": []
    },
    {
      "cell_type": "markdown",
      "metadata": {
        "id": "pmL5WqH53Ljo",
        "colab_type": "text"
      },
      "source": [
        "## Training CNN in Keras"
      ]
    },
    {
      "cell_type": "code",
      "metadata": {
        "id": "FIE7e6tV3Nn8",
        "colab_type": "code",
        "outputId": "9191e2b0-4413-4290-e2ba-419b949cdf1c",
        "colab": {
          "base_uri": "https://localhost:8080/",
          "height": 289
        }
      },
      "source": [
        "model.summary()"
      ],
      "execution_count": 0,
      "outputs": [
        {
          "output_type": "stream",
          "text": [
            "Model: \"sequential_3\"\n",
            "_________________________________________________________________\n",
            "Layer (type)                 Output Shape              Param #   \n",
            "=================================================================\n",
            "conv2d_7 (Conv2D)            (None, 26, 26, 32)        320       \n",
            "_________________________________________________________________\n",
            "conv2d_8 (Conv2D)            (None, 24, 24, 64)        18496     \n",
            "_________________________________________________________________\n",
            "conv2d_9 (Conv2D)            (None, 22, 22, 64)        36928     \n",
            "_________________________________________________________________\n",
            "flatten_2 (Flatten)          (None, 30976)             0         \n",
            "=================================================================\n",
            "Total params: 55,744\n",
            "Trainable params: 55,744\n",
            "Non-trainable params: 0\n",
            "_________________________________________________________________\n"
          ],
          "name": "stdout"
        }
      ]
    },
    {
      "cell_type": "code",
      "metadata": {
        "id": "zzjYMQ8o3XL_",
        "colab_type": "code",
        "outputId": "3ebc81a0-3dc6-4c0a-dee9-b1e284d8163f",
        "colab": {
          "base_uri": "https://localhost:8080/",
          "height": 425
        }
      },
      "source": [
        "model.add(Dense(64, activation='relu'))\n",
        "model.add(Dense(10, activation='softmax'))\n",
        "model.summary()\n"
      ],
      "execution_count": 0,
      "outputs": [
        {
          "output_type": "stream",
          "text": [
            "Model: \"sequential_2\"\n",
            "_________________________________________________________________\n",
            "Layer (type)                 Output Shape              Param #   \n",
            "=================================================================\n",
            "conv2d_4 (Conv2D)            (None, 26, 26, 32)        320       \n",
            "_________________________________________________________________\n",
            "max_pooling2d_4 (MaxPooling2 (None, 13, 13, 32)        0         \n",
            "_________________________________________________________________\n",
            "conv2d_5 (Conv2D)            (None, 11, 11, 64)        18496     \n",
            "_________________________________________________________________\n",
            "max_pooling2d_5 (MaxPooling2 (None, 5, 5, 64)          0         \n",
            "_________________________________________________________________\n",
            "conv2d_6 (Conv2D)            (None, 3, 3, 64)          36928     \n",
            "_________________________________________________________________\n",
            "flatten_1 (Flatten)          (None, 576)               0         \n",
            "_________________________________________________________________\n",
            "dense_1 (Dense)              (None, 64)                36928     \n",
            "_________________________________________________________________\n",
            "dense_2 (Dense)              (None, 10)                650       \n",
            "=================================================================\n",
            "Total params: 93,322\n",
            "Trainable params: 93,322\n",
            "Non-trainable params: 0\n",
            "_________________________________________________________________\n"
          ],
          "name": "stdout"
        }
      ]
    },
    {
      "cell_type": "code",
      "metadata": {
        "id": "YrcJuIM04iNR",
        "colab_type": "code",
        "colab": {}
      },
      "source": [
        "from keras.datasets import mnist\n",
        "from keras.utils import to_categorical"
      ],
      "execution_count": 0,
      "outputs": []
    },
    {
      "cell_type": "code",
      "metadata": {
        "id": "KQTJ3iLl4uK1",
        "colab_type": "code",
        "outputId": "11a965f7-f372-4891-873c-17cb326bc2ab",
        "colab": {
          "base_uri": "https://localhost:8080/",
          "height": 51
        }
      },
      "source": [
        "(XTrain, YTrain), (XTest, YTest) = mnist.load_data()"
      ],
      "execution_count": 0,
      "outputs": [
        {
          "output_type": "stream",
          "text": [
            "Downloading data from https://s3.amazonaws.com/img-datasets/mnist.npz\n",
            "11493376/11490434 [==============================] - 0s 0us/step\n"
          ],
          "name": "stdout"
        }
      ]
    },
    {
      "cell_type": "code",
      "metadata": {
        "id": "zHeoBXSN400F",
        "colab_type": "code",
        "outputId": "1f809cf7-b405-40be-a906-d7975dbcc3ee",
        "colab": {
          "base_uri": "https://localhost:8080/",
          "height": 85
        }
      },
      "source": [
        "print(XTrain.shape)\n",
        "print(YTrain.shape)\n",
        "print(XTest.shape)\n",
        "print(YTest.shape)"
      ],
      "execution_count": 0,
      "outputs": [
        {
          "output_type": "stream",
          "text": [
            "(60000, 28, 28)\n",
            "(60000,)\n",
            "(10000, 28, 28)\n",
            "(10000,)\n"
          ],
          "name": "stdout"
        }
      ]
    },
    {
      "cell_type": "code",
      "metadata": {
        "id": "hf6Heeuo473c",
        "colab_type": "code",
        "colab": {}
      },
      "source": [
        "def preprocess_data(X, Y):\n",
        "  X = X.reshape((-1, 28, 28, 1))\n",
        "  X = X/255.0\n",
        "  Y = to_categorical(Y)\n",
        "  return X, Y"
      ],
      "execution_count": 0,
      "outputs": []
    },
    {
      "cell_type": "code",
      "metadata": {
        "id": "YsCpU47g5YkO",
        "colab_type": "code",
        "colab": {}
      },
      "source": [
        "XTrain, YTrain = preprocess_data(XTrain, YTrain)"
      ],
      "execution_count": 0,
      "outputs": []
    },
    {
      "cell_type": "code",
      "metadata": {
        "id": "nQKXxERb5d1b",
        "colab_type": "code",
        "colab": {}
      },
      "source": [
        "XTest, YTest = preprocess_data(XTest, YTest)"
      ],
      "execution_count": 0,
      "outputs": []
    },
    {
      "cell_type": "code",
      "metadata": {
        "id": "faB7vVOP5ihB",
        "colab_type": "code",
        "outputId": "4f90a82b-9c34-4f8c-aacc-626e055ca52c",
        "colab": {
          "base_uri": "https://localhost:8080/",
          "height": 85
        }
      },
      "source": [
        "print(XTrain.shape)\n",
        "print(YTrain.shape)\n",
        "print(XTest.shape)\n",
        "print(YTest.shape)"
      ],
      "execution_count": 0,
      "outputs": [
        {
          "output_type": "stream",
          "text": [
            "(60000, 28, 28, 1)\n",
            "(60000, 10)\n",
            "(10000, 28, 28, 1)\n",
            "(10000, 10)\n"
          ],
          "name": "stdout"
        }
      ]
    },
    {
      "cell_type": "code",
      "metadata": {
        "id": "LSPaWI6T5j-w",
        "colab_type": "code",
        "outputId": "1dffe853-bfc9-4f28-f968-ef70e14f8ca0",
        "colab": {
          "base_uri": "https://localhost:8080/",
          "height": 85
        }
      },
      "source": [
        "# Model Compilation\n",
        "model.compile(optimizer='adam', loss='categorical_crossentropy', metrics=['accuracy'])"
      ],
      "execution_count": 0,
      "outputs": [
        {
          "output_type": "stream",
          "text": [
            "WARNING:tensorflow:From /usr/local/lib/python3.6/dist-packages/keras/optimizers.py:793: The name tf.train.Optimizer is deprecated. Please use tf.compat.v1.train.Optimizer instead.\n",
            "\n",
            "WARNING:tensorflow:From /usr/local/lib/python3.6/dist-packages/keras/backend/tensorflow_backend.py:3576: The name tf.log is deprecated. Please use tf.math.log instead.\n",
            "\n"
          ],
          "name": "stdout"
        }
      ]
    },
    {
      "cell_type": "code",
      "metadata": {
        "id": "0j3K-PIZ58Zb",
        "colab_type": "code",
        "outputId": "5a215287-093c-4990-f75e-9303217467a5",
        "colab": {
          "base_uri": "https://localhost:8080/",
          "height": 1000
        }
      },
      "source": [
        "history = model.fit(XTrain, YTrain, epochs=20, validation_split=0.1, batch_size=128)"
      ],
      "execution_count": 0,
      "outputs": [
        {
          "output_type": "stream",
          "text": [
            "WARNING:tensorflow:From /usr/local/lib/python3.6/dist-packages/tensorflow_core/python/ops/math_grad.py:1424: where (from tensorflow.python.ops.array_ops) is deprecated and will be removed in a future version.\n",
            "Instructions for updating:\n",
            "Use tf.where in 2.0, which has the same broadcast rule as np.where\n",
            "WARNING:tensorflow:From /usr/local/lib/python3.6/dist-packages/keras/backend/tensorflow_backend.py:1033: The name tf.assign_add is deprecated. Please use tf.compat.v1.assign_add instead.\n",
            "\n",
            "WARNING:tensorflow:From /usr/local/lib/python3.6/dist-packages/keras/backend/tensorflow_backend.py:1020: The name tf.assign is deprecated. Please use tf.compat.v1.assign instead.\n",
            "\n",
            "WARNING:tensorflow:From /usr/local/lib/python3.6/dist-packages/keras/backend/tensorflow_backend.py:3005: The name tf.Session is deprecated. Please use tf.compat.v1.Session instead.\n",
            "\n",
            "Train on 54000 samples, validate on 6000 samples\n",
            "Epoch 1/20\n",
            "WARNING:tensorflow:From /usr/local/lib/python3.6/dist-packages/keras/backend/tensorflow_backend.py:190: The name tf.get_default_session is deprecated. Please use tf.compat.v1.get_default_session instead.\n",
            "\n",
            "WARNING:tensorflow:From /usr/local/lib/python3.6/dist-packages/keras/backend/tensorflow_backend.py:197: The name tf.ConfigProto is deprecated. Please use tf.compat.v1.ConfigProto instead.\n",
            "\n",
            "WARNING:tensorflow:From /usr/local/lib/python3.6/dist-packages/keras/backend/tensorflow_backend.py:207: The name tf.global_variables is deprecated. Please use tf.compat.v1.global_variables instead.\n",
            "\n",
            "WARNING:tensorflow:From /usr/local/lib/python3.6/dist-packages/keras/backend/tensorflow_backend.py:216: The name tf.is_variable_initialized is deprecated. Please use tf.compat.v1.is_variable_initialized instead.\n",
            "\n",
            "WARNING:tensorflow:From /usr/local/lib/python3.6/dist-packages/keras/backend/tensorflow_backend.py:223: The name tf.variables_initializer is deprecated. Please use tf.compat.v1.variables_initializer instead.\n",
            "\n",
            "54000/54000 [==============================] - 43s 804us/step - loss: 0.2674 - acc: 0.9189 - val_loss: 0.0833 - val_acc: 0.9752\n",
            "Epoch 2/20\n",
            "54000/54000 [==============================] - 43s 791us/step - loss: 0.0665 - acc: 0.9797 - val_loss: 0.0460 - val_acc: 0.9875\n",
            "Epoch 3/20\n",
            "54000/54000 [==============================] - 43s 793us/step - loss: 0.0460 - acc: 0.9854 - val_loss: 0.0467 - val_acc: 0.9868\n",
            "Epoch 4/20\n",
            "54000/54000 [==============================] - 43s 794us/step - loss: 0.0373 - acc: 0.9883 - val_loss: 0.0553 - val_acc: 0.9828\n",
            "Epoch 5/20\n",
            "54000/54000 [==============================] - 43s 790us/step - loss: 0.0302 - acc: 0.9903 - val_loss: 0.0449 - val_acc: 0.9880\n",
            "Epoch 6/20\n",
            "54000/54000 [==============================] - 43s 789us/step - loss: 0.0234 - acc: 0.9924 - val_loss: 0.0331 - val_acc: 0.9907\n",
            "Epoch 7/20\n",
            "54000/54000 [==============================] - 42s 786us/step - loss: 0.0212 - acc: 0.9929 - val_loss: 0.0528 - val_acc: 0.9868\n",
            "Epoch 8/20\n",
            "54000/54000 [==============================] - 42s 785us/step - loss: 0.0182 - acc: 0.9940 - val_loss: 0.0407 - val_acc: 0.9902\n",
            "Epoch 9/20\n",
            "54000/54000 [==============================] - 42s 785us/step - loss: 0.0156 - acc: 0.9950 - val_loss: 0.0346 - val_acc: 0.9917\n",
            "Epoch 10/20\n",
            "54000/54000 [==============================] - 43s 788us/step - loss: 0.0128 - acc: 0.9959 - val_loss: 0.0338 - val_acc: 0.9908\n",
            "Epoch 11/20\n",
            "54000/54000 [==============================] - 43s 788us/step - loss: 0.0125 - acc: 0.9956 - val_loss: 0.0340 - val_acc: 0.9932\n",
            "Epoch 12/20\n",
            "54000/54000 [==============================] - 43s 790us/step - loss: 0.0118 - acc: 0.9958 - val_loss: 0.0525 - val_acc: 0.9883\n",
            "Epoch 13/20\n",
            "54000/54000 [==============================] - 43s 788us/step - loss: 0.0083 - acc: 0.9972 - val_loss: 0.0336 - val_acc: 0.9927\n",
            "Epoch 14/20\n",
            "54000/54000 [==============================] - 42s 786us/step - loss: 0.0074 - acc: 0.9972 - val_loss: 0.0408 - val_acc: 0.9912\n",
            "Epoch 15/20\n",
            "54000/54000 [==============================] - 42s 783us/step - loss: 0.0082 - acc: 0.9971 - val_loss: 0.0415 - val_acc: 0.9903\n",
            "Epoch 16/20\n",
            "54000/54000 [==============================] - 42s 779us/step - loss: 0.0079 - acc: 0.9973 - val_loss: 0.0404 - val_acc: 0.9927\n",
            "Epoch 17/20\n",
            "54000/54000 [==============================] - 42s 780us/step - loss: 0.0070 - acc: 0.9976 - val_loss: 0.0385 - val_acc: 0.9915\n",
            "Epoch 18/20\n",
            "54000/54000 [==============================] - 42s 780us/step - loss: 0.0042 - acc: 0.9984 - val_loss: 0.0417 - val_acc: 0.9923\n",
            "Epoch 19/20\n",
            "54000/54000 [==============================] - 42s 782us/step - loss: 0.0051 - acc: 0.9984 - val_loss: 0.0468 - val_acc: 0.9912\n",
            "Epoch 20/20\n",
            "54000/54000 [==============================] - 42s 786us/step - loss: 0.0063 - acc: 0.9977 - val_loss: 0.0499 - val_acc: 0.9907\n"
          ],
          "name": "stdout"
        }
      ]
    },
    {
      "cell_type": "code",
      "metadata": {
        "id": "qeWJ7W-86bbC",
        "colab_type": "code",
        "outputId": "4051ce7f-6f58-4d8d-d723-74d51d1f1d7f",
        "colab": {
          "base_uri": "https://localhost:8080/",
          "height": 51
        }
      },
      "source": [
        "model.evaluate(XTest, YTest)"
      ],
      "execution_count": 0,
      "outputs": [
        {
          "output_type": "stream",
          "text": [
            "10000/10000 [==============================] - 3s 261us/step\n"
          ],
          "name": "stdout"
        },
        {
          "output_type": "execute_result",
          "data": {
            "text/plain": [
              "[0.038211226431745036, 0.9908]"
            ]
          },
          "metadata": {
            "tags": []
          },
          "execution_count": 30
        }
      ]
    },
    {
      "cell_type": "code",
      "metadata": {
        "id": "Pp1VSIOv986U",
        "colab_type": "code",
        "outputId": "e6e8ba84-8543-4ba8-f131-70ce835fdacd",
        "colab": {
          "base_uri": "https://localhost:8080/",
          "height": 357
        }
      },
      "source": [
        "model = Sequential()\n",
        "model.add(Conv2D(32, (3, 3), activation='relu', input_shape = (28, 28, 1)))\n",
        "model.add(Conv2D(64, (3, 3), activation='relu'))\n",
        "model.add(Conv2D(64, (3, 3), activation='relu'))\n",
        "model.add(Flatten())\n",
        "model.add(Dense(10, activation='relu'))\n",
        "model.add(Dense(20, activation='softmax'))\n",
        "model.summary()"
      ],
      "execution_count": 0,
      "outputs": [
        {
          "output_type": "stream",
          "text": [
            "Model: \"sequential_4\"\n",
            "_________________________________________________________________\n",
            "Layer (type)                 Output Shape              Param #   \n",
            "=================================================================\n",
            "conv2d_10 (Conv2D)           (None, 26, 26, 32)        320       \n",
            "_________________________________________________________________\n",
            "conv2d_11 (Conv2D)           (None, 24, 24, 64)        18496     \n",
            "_________________________________________________________________\n",
            "conv2d_12 (Conv2D)           (None, 22, 22, 64)        36928     \n",
            "_________________________________________________________________\n",
            "flatten_3 (Flatten)          (None, 30976)             0         \n",
            "_________________________________________________________________\n",
            "dense_3 (Dense)              (None, 64)                1982528   \n",
            "_________________________________________________________________\n",
            "dense_4 (Dense)              (None, 10)                650       \n",
            "=================================================================\n",
            "Total params: 2,038,922\n",
            "Trainable params: 2,038,922\n",
            "Non-trainable params: 0\n",
            "_________________________________________________________________\n"
          ],
          "name": "stdout"
        }
      ]
    },
    {
      "cell_type": "code",
      "metadata": {
        "id": "37YJwJ-2_XXo",
        "colab_type": "code",
        "colab": {}
      },
      "source": [
        ""
      ],
      "execution_count": 0,
      "outputs": []
    }
  ]
}