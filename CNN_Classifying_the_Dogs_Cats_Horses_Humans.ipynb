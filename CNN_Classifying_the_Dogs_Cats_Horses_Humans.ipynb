{
  "nbformat": 4,
  "nbformat_minor": 0,
  "metadata": {
    "colab": {
      "name": "CNN - Classifying the Dogs Cats Horses Humans",
      "provenance": [],
      "collapsed_sections": [],
      "include_colab_link": true
    },
    "kernelspec": {
      "name": "python3",
      "display_name": "Python 3"
    },
    "accelerator": "GPU"
  },
  "cells": [
    {
      "cell_type": "markdown",
      "metadata": {
        "id": "view-in-github",
        "colab_type": "text"
      },
      "source": [
        "<a href=\"https://colab.research.google.com/github/advaitjk/machine-learning-master-course/blob/master/CNN_Classifying_the_Dogs_Cats_Horses_Humans.ipynb\" target=\"_parent\"><img src=\"https://colab.research.google.com/assets/colab-badge.svg\" alt=\"Open In Colab\"/></a>"
      ]
    },
    {
      "cell_type": "code",
      "metadata": {
        "id": "ZiC1ZJMmLWxx",
        "colab_type": "code",
        "colab": {}
      },
      "source": [
        "# Google Colab"
      ],
      "execution_count": 0,
      "outputs": []
    },
    {
      "cell_type": "code",
      "metadata": {
        "id": "7on6N5h-LdFw",
        "colab_type": "code",
        "colab": {}
      },
      "source": [
        "# Cats-Dogs-Horses-Humans Dataset: Kaggle"
      ],
      "execution_count": 0,
      "outputs": []
    },
    {
      "cell_type": "code",
      "metadata": {
        "id": "fjt-XYP7LwfC",
        "colab_type": "code",
        "outputId": "325c6358-978e-457c-97b6-76aba9938e32",
        "colab": {
          "base_uri": "https://localhost:8080/",
          "height": 34
        }
      },
      "source": [
        "from google.colab import drive\n",
        "drive.mount('/content/gdrive', force_remount=True)"
      ],
      "execution_count": 0,
      "outputs": [
        {
          "output_type": "stream",
          "text": [
            "Mounted at /content/gdrive\n"
          ],
          "name": "stdout"
        }
      ]
    },
    {
      "cell_type": "code",
      "metadata": {
        "id": "OOKU9ftAL5ib",
        "colab_type": "code",
        "colab": {}
      },
      "source": [
        "import os"
      ],
      "execution_count": 0,
      "outputs": []
    },
    {
      "cell_type": "code",
      "metadata": {
        "id": "vCUXd5a1MDhu",
        "colab_type": "code",
        "colab": {}
      },
      "source": [
        "folders = os.listdir(\"/content/gdrive/My Drive/Images\")"
      ],
      "execution_count": 0,
      "outputs": []
    },
    {
      "cell_type": "code",
      "metadata": {
        "id": "zYj3-V9pMNhx",
        "colab_type": "code",
        "outputId": "8e09e717-82e1-4ce1-8507-8e93fb40c396",
        "colab": {
          "base_uri": "https://localhost:8080/",
          "height": 105
        }
      },
      "source": [
        "for f in folders:\n",
        "  path = \"/content/gdrive/My Drive/Images/\" + f\n",
        "  print((os.listdir(path))) "
      ],
      "execution_count": 0,
      "outputs": [
        {
          "output_type": "stream",
          "text": [
            "['rider-147.jpg', 'rider-153.jpg', 'rider-70.jpg', 'rider-64.jpg', 'rider-152.jpg', 'rider-71.jpg', 'rider-186.jpg', 'rider-190.jpg', 'rider-59.jpg', 'rider-65.jpg', 'rider-184.jpg', 'rider-145.jpg', 'rider-192.jpg', 'rider-151.jpg', 'rider-98.jpg', 'rider-67.jpg', 'rider-73.jpg', 'rider-99.jpg', 'rider-150.jpg', 'rider-144.jpg', 'rider-179.jpg', 'rider-66.jpg', 'rider-178.jpg', 'rider-72.jpg', 'rider-15.jpg', 'rider-8.jpg', 'rider-29.jpg', 'rider-193.jpg', 'rider-9.jpg', 'rider-28.jpg', 'rider-122.jpg', 'rider-187.jpg', 'rider-123.jpg', 'rider-137.jpg', 'rider-136.jpg', 'rider-121.jpg', 'rider-134.jpg', 'rider-120.jpg', 'rider-14.jpg', 'rider-16.jpg', 'rider-135.jpg', 'rider-108.jpg', 'rider-131.jpg', 'rider-13.jpg', 'rider-125.jpg', 'rider-109.jpg', 'rider-119.jpg', 'rider-17.jpg', 'rider-130.jpg', 'rider-118.jpg', 'rider-124.jpg', 'rider-12.jpg', 'rider-38.jpg', 'rider-10.jpg', 'rider-39.jpg', 'rider-133.jpg', 'rider-127.jpg', 'rider-132.jpg', 'rider-126.jpg', 'rider-11.jpg', 'rider-82.jpg', 'rider-45.jpg', 'rider-79.jpg', 'rider-51.jpg', 'rider-201.jpg', 'rider-41.jpg', 'rider-198.jpg', 'rider-173.jpg', 'rider-92.jpg', 'rider-93.jpg', 'rider-87.jpg', 'rider-167.jpg', 'rider-158.jpg', 'rider-164.jpg', 'rider-170.jpg', 'rider-166.jpg', 'rider-86.jpg', 'rider-172.jpg', 'rider-199.jpg', 'rider-52.jpg', 'rider-44.jpg', 'rider-78.jpg', 'rider-50.jpg', 'rider-46.jpg', 'rider-85.jpg', 'rider-91.jpg', 'rider-84.jpg', 'rider-165.jpg', 'rider-171.jpg', 'rider-47.jpg', 'rider-76.jpg', 'rider-183.jpg', 'rider-62.jpg', 'rider-159.jpg', 'rider-90.jpg', 'rider-53.jpg', 'rider-197.jpg', 'rider-168.jpg', 'rider-140.jpg', 'rider-88.jpg', 'rider-155.jpg', 'rider-141.jpg', 'rider-182.jpg', 'rider-196.jpg', 'rider-63.jpg', 'rider-89.jpg', 'rider-154.jpg', 'rider-169.jpg', 'rider-77.jpg', 'rider-61.jpg', 'rider-75.jpg', 'rider-157.jpg', 'rider-49.jpg', 'rider-180.jpg', 'rider-156.jpg', 'rider-48.jpg', 'rider-142.jpg', 'rider-194.jpg', 'rider-143.jpg', 'rider-181.jpg', 'rider-195.jpg', 'rider-74.jpg', 'rider-191.jpg', 'rider-185.jpg', 'rider-58.jpg', 'rider-146.jpg', 'rider-60.jpg', 'rider-20.jpg', 'rider-34.jpg', 'rider-102.jpg', 'rider-116.jpg', 'rider-1.jpg', 'rider-117.jpg', 'rider-103.jpg', 'rider-23.jpg', 'rider-2.jpg', 'rider-37.jpg', 'rider-101.jpg', 'rider-115.jpg', 'rider-21.jpg', 'rider-100.jpg', 'rider-35.jpg', 'rider-129.jpg', 'rider-114.jpg', 'rider-128.jpg', 'rider-36.jpg', 'rider-26.jpg', 'rider-3.jpg', 'rider-7.jpg', 'rider-139.jpg', 'rider-111.jpg', 'rider-105.jpg', 'rider-22.jpg', 'rider-32.jpg', 'rider-110.jpg', 'rider-33.jpg', 'rider-6.jpg', 'rider-27.jpg', 'rider-104.jpg', 'rider-4.jpg', 'rider-138.jpg', 'rider-19.jpg', 'rider-31.jpg', 'rider-25.jpg', 'rider-112.jpg', 'rider-106.jpg', 'rider-24.jpg', 'rider-57.jpg', 'rider-18.jpg', 'rider-5.jpg', 'rider-107.jpg', 'rider-113.jpg', 'rider-30.jpg', 'rider-43.jpg', 'rider-94.jpg', 'rider-149.jpg', 'rider-175.jpg', 'rider-160.jpg', 'rider-174.jpg', 'rider-42.jpg', 'rider-95.jpg', 'rider-56.jpg', 'rider-161.jpg', 'rider-80.jpg', 'rider-202.jpg', 'rider-81.jpg', 'rider-148.jpg', 'rider-200.jpg', 'rider-68.jpg', 'rider-54.jpg', 'rider-189.jpg', 'rider-40.jpg', 'rider-163.jpg', 'rider-176.jpg', 'rider-162.jpg', 'rider-83.jpg', 'rider-97.jpg', 'rider-177.jpg', 'rider-96.jpg', 'rider-55.jpg', 'rider-69.jpg', 'rider-188.jpg']\n",
            "['dog.160.jpg', 'dog.174.jpg', 'dog.148.jpg', 'dog.175.jpg', 'dog.18.jpg', 'dog.31.jpg', 'dog.30.jpg', 'dog.161.jpg', 'dog.171.jpg', 'dog.24.jpg', 'dog.20.jpg', 'dog.165.jpg', 'dog.149.jpg', 'dog.34.jpg', 'dog.164.jpg', 'dog.21.jpg', 'dog.170.jpg', 'dog.35.jpg', 'dog.159.jpg', 'dog.158.jpg', 'dog.166.jpg', 'dog.199.jpg', 'dog.198.jpg', 'dog.23.jpg', 'dog.172.jpg', 'dog.37.jpg', 'dog.22.jpg', 'dog.167.jpg', 'dog.36.jpg', 'dog.173.jpg', 'dog.151.jpg', 'dog.185.jpg', 'dog.191.jpg', 'dog.17.jpg', 'dog.184.jpg', 'dog.146.jpg', 'dog.190.jpg', 'dog.152.jpg', 'dog.134.jpg', 'dog.59.jpg', 'dog.120.jpg', 'dog.64.jpg', 'dog.109.jpg', 'dog.58.jpg', 'dog.121.jpg', 'dog.70.jpg', 'dog.135.jpg', 'dog.65.jpg', 'dog.108.jpg', 'dog.137.jpg', 'dog.123.jpg', 'dog.99.jpg', 'dog.122.jpg', 'dog.136.jpg', 'dog.73.jpg', 'dog.71.jpg', 'dog.67.jpg', 'dog.98.jpg', 'dog.72.jpg', 'dog.66.jpg', 'dog.133.jpg', 'dog.76.jpg', 'dog.62.jpg', 'dog.126.jpg', 'dog.89.jpg', 'dog.127.jpg', 'dog.132.jpg', 'dog.9.jpg', 'dog.88.jpg', 'dog.77.jpg', 'dog.63.jpg', 'dog.49.jpg', 'dog.61.jpg', 'dog.75.jpg', 'dog.118.jpg', 'dog.124.jpg', 'dog.130.jpg', 'dog.48.jpg', 'dog.119.jpg', 'dog.131.jpg', 'dog.60.jpg', 'dog.74.jpg', 'dog.8.jpg', 'dog.51.jpg', 'dog.5.jpg', 'dog.45.jpg', 'dog.128.jpg', 'dog.125.jpg', 'dog.114.jpg', 'dog.79.jpg', 'dog.92.jpg', 'dog.100.jpg', 'dog.87.jpg', 'dog.86.jpg', 'dog.93.jpg', 'dog.4.jpg', 'dog.6.jpg', 'dog.46.jpg', 'dog.50.jpg', 'dog.44.jpg', 'dog.101.jpg', 'dog.78.jpg', 'dog.115.jpg', 'dog.129.jpg', 'dog.52.jpg', 'dog.103.jpg', 'dog.117.jpg', 'dog.53.jpg', 'dog.102.jpg', 'dog.90.jpg', 'dog.84.jpg', 'dog.47.jpg', 'dog.7.jpg', 'dog.91.jpg', 'dog.85.jpg', 'dog.116.jpg', 'dog.112.jpg', 'dog.106.jpg', 'dog.3.jpg', 'dog.94.jpg', 'dog.95.jpg', 'dog.80.jpg', 'dog.56.jpg', 'dog.43.jpg', 'dog.42.jpg', 'dog.2.jpg', 'dog.57.jpg', 'dog.81.jpg', 'dog.107.jpg', 'dog.113.jpg', 'dog.68.jpg', 'dog.82.jpg', 'dog.83.jpg', 'dog.96.jpg', 'dog.54.jpg', 'dog.139.jpg', 'dog.97.jpg', 'dog.105.jpg', 'dog.111.jpg', 'dog.40.jpg', 'dog.41.jpg', 'dog.1.jpg', 'dog.55.jpg', 'dog.177.jpg', 'dog.163.jpg', 'dog.188.jpg', 'dog.104.jpg', 'dog.69.jpg', 'dog.201.jpg', 'dog.138.jpg', 'dog.110.jpg', 'dog.32.jpg', 'dog.26.jpg', 'dog.189.jpg', 'dog.176.jpg', 'dog.27.jpg', 'dog.33.jpg', 'dog.202.jpg', 'dog.162.jpg', 'dog.19.jpg', 'dog.25.jpg', 'dog.200.jpg', 'dog.194.jpg', 'dog.195.jpg', 'dog.13.jpg', 'dog.180.jpg', 'dog.142.jpg', 'dog.156.jpg', 'dog.169.jpg', 'dog.12.jpg', 'dog.10.jpg', 'dog.157.jpg', 'dog.181.jpg', 'dog.143.jpg', 'dog.38.jpg', 'dog.196.jpg', 'dog.182.jpg', 'dog.155.jpg', 'dog.183.jpg', 'dog.141.jpg', 'dog.154.jpg', 'dog.39.jpg', 'dog.11.jpg', 'dog.197.jpg', 'dog.140.jpg', 'dog.168.jpg', 'dog.150.jpg', 'dog.15.jpg', 'dog.178.jpg', 'dog.144.jpg', 'dog.29.jpg', 'dog.192.jpg', 'dog.193.jpg', 'dog.187.jpg', 'dog.14.jpg', 'dog.179.jpg', 'dog.186.jpg', 'dog.28.jpg', 'dog.153.jpg', 'dog.147.jpg', 'dog.16.jpg', 'dog.145.jpg']\n",
            "['cat.78.jpg', 'cat.44.jpg', 'cat.50.jpg', 'cat.87.jpg', 'cat.93.jpg', 'cat.91.jpg', 'cat.46.jpg', 'cat.52.jpg', 'cat.85.jpg', 'cat.139.jpg', 'cat.105.jpg', 'cat.138.jpg', 'cat.111.jpg', 'cat.110.jpg', 'cat.104.jpg', 'cat.47.jpg', 'cat.53.jpg', 'cat.90.jpg', 'cat.84.jpg', 'cat.2.jpg', 'cat.201.jpg', 'cat.20.jpg', 'cat.188.jpg', 'cat.163.jpg', 'cat.177.jpg', 'cat.34.jpg', 'cat.21.jpg', 'cat.176.jpg', 'cat.162.jpg', 'cat.35.jpg', 'cat.189.jpg', 'cat.200.jpg', 'cat.174.jpg', 'cat.1.jpg', 'cat.202.jpg', 'cat.3.jpg', 'cat.160.jpg', 'cat.148.jpg', 'cat.23.jpg', 'cat.37.jpg', 'cat.36.jpg', 'cat.22.jpg', 'cat.175.jpg', 'cat.149.jpg', 'cat.4.jpg', 'cat.161.jpg', 'cat.26.jpg', 'cat.171.jpg', 'cat.32.jpg', 'cat.159.jpg', 'cat.6.jpg', 'cat.198.jpg', 'cat.30.jpg', 'cat.172.jpg', 'cat.166.jpg', 'cat.173.jpg', 'cat.18.jpg', 'cat.24.jpg', 'cat.19.jpg', 'cat.167.jpg', 'cat.25.jpg', 'cat.31.jpg', 'cat.199.jpg', 'cat.7.jpg', 'cat.5.jpg', 'cat.164.jpg', 'cat.170.jpg', 'cat.33.jpg', 'cat.158.jpg', 'cat.27.jpg', 'cat.165.jpg', 'cat.106.jpg', 'cat.107.jpg', 'cat.112.jpg', 'cat.113.jpg', 'cat.71.jpg', 'cat.65.jpg', 'cat.131.jpg', 'cat.125.jpg', 'cat.98.jpg', 'cat.66.jpg', 'cat.119.jpg', 'cat.80.jpg', 'cat.94.jpg', 'cat.99.jpg', 'cat.100.jpg', 'cat.114.jpg', 'cat.57.jpg', 'cat.128.jpg', 'cat.43.jpg', 'cat.72.jpg', 'cat.129.jpg', 'cat.101.jpg', 'cat.95.jpg', 'cat.115.jpg', 'cat.56.jpg', 'cat.81.jpg', 'cat.42.jpg', 'cat.68.jpg', 'cat.83.jpg', 'cat.97.jpg', 'cat.117.jpg', 'cat.41.jpg', 'cat.55.jpg', 'cat.103.jpg', 'cat.54.jpg', 'cat.40.jpg', 'cat.102.jpg', 'cat.116.jpg', 'cat.96.jpg', 'cat.69.jpg', 'cat.82.jpg', 'cat.45.jpg', 'cat.86.jpg', 'cat.51.jpg', 'cat.79.jpg', 'cat.92.jpg', 'cat.181.jpg', 'cat.195.jpg', 'cat.15.jpg', 'cat.14.jpg', 'cat.156.jpg', 'cat.29.jpg', 'cat.142.jpg', 'cat.143.jpg', 'cat.157.jpg', 'cat.8.jpg', 'cat.194.jpg', 'cat.180.jpg', 'cat.28.jpg', 'cat.182.jpg', 'cat.16.jpg', 'cat.169.jpg', 'cat.141.jpg', 'cat.196.jpg', 'cat.155.jpg', 'cat.17.jpg', 'cat.154.jpg', 'cat.197.jpg', 'cat.183.jpg', 'cat.168.jpg', 'cat.140.jpg', 'cat.9.jpg', 'cat.193.jpg', 'cat.187.jpg', 'cat.145.jpg', 'cat.144.jpg', 'cat.151.jpg', 'cat.150.jpg', 'cat.13.jpg', 'cat.186.jpg', 'cat.179.jpg', 'cat.12.jpg', 'cat.178.jpg', 'cat.192.jpg', 'cat.184.jpg', 'cat.190.jpg', 'cat.11.jpg', 'cat.39.jpg', 'cat.152.jpg', 'cat.146.jpg', 'cat.191.jpg', 'cat.10.jpg', 'cat.147.jpg', 'cat.38.jpg', 'cat.185.jpg', 'cat.89.jpg', 'cat.153.jpg', 'cat.135.jpg', 'cat.121.jpg', 'cat.76.jpg', 'cat.77.jpg', 'cat.63.jpg', 'cat.134.jpg', 'cat.62.jpg', 'cat.49.jpg', 'cat.88.jpg', 'cat.120.jpg', 'cat.136.jpg', 'cat.109.jpg', 'cat.108.jpg', 'cat.122.jpg', 'cat.61.jpg', 'cat.75.jpg', 'cat.64.jpg', 'cat.137.jpg', 'cat.48.jpg', 'cat.70.jpg', 'cat.74.jpg', 'cat.60.jpg', 'cat.58.jpg', 'cat.133.jpg', 'cat.127.jpg', 'cat.123.jpg', 'cat.126.jpg', 'cat.132.jpg', 'cat.59.jpg', 'cat.124.jpg', 'cat.73.jpg', 'cat.118.jpg', 'cat.67.jpg', 'cat.130.jpg']\n",
            "['horse-161.jpg', 'horse-149.jpg', 'horse-47.jpg', 'horse-84.jpg', 'horse-8.jpg', 'horse-159.jpg', 'horse-175.jpg', 'horse-53.jpg', 'horse-171.jpg', 'horse-46.jpg', 'horse-165.jpg', 'horse-90.jpg', 'horse-170.jpg', 'horse-164.jpg', 'horse-91.jpg', 'horse-52.jpg', 'horse-85.jpg', 'horse-25.jpg', 'horse-19.jpg', 'horse-9.jpg', 'horse-199.jpg', 'horse-158.jpg', 'horse-18.jpg', 'horse-166.jpg', 'horse-50.jpg', 'horse-44.jpg', 'horse-78.jpg', 'horse-172.jpg', 'horse-87.jpg', 'horse-92.jpg', 'horse-86.jpg', 'horse-79.jpg', 'horse-93.jpg', 'horse-51.jpg', 'horse-45.jpg', 'horse-173.jpg', 'horse-167.jpg', 'horse-198.jpg', 'horse-128.jpg', 'horse-114.jpg', 'horse-22.jpg', 'horse-100.jpg', 'horse-37.jpg', 'horse-36.jpg', 'horse-23.jpg', 'horse-21.jpg', 'horse-103.jpg', 'horse-129.jpg', 'horse-115.jpg', 'horse-35.jpg', 'horse-101.jpg', 'horse-117.jpg', 'horse-20.jpg', 'horse-34.jpg', 'horse-102.jpg', 'horse-106.jpg', 'horse-116.jpg', 'horse-112.jpg', 'horse-30.jpg', 'horse-24.jpg', 'horse-31.jpg', 'horse-107.jpg', 'horse-110.jpg', 'horse-113.jpg', 'horse-111.jpg', 'horse-27.jpg', 'horse-105.jpg', 'horse-139.jpg', 'horse-104.jpg', 'horse-138.jpg', 'horse-33.jpg', 'horse-32.jpg', 'horse-26.jpg', 'horse-197.jpg', 'horse-183.jpg', 'horse-5.jpg', 'horse-140.jpg', 'horse-187.jpg', 'horse-193.jpg', 'horse-178.jpg', 'horse-154.jpg', 'horse-1.jpg', 'horse-150.jpg', 'horse-144.jpg', 'horse-99.jpg', 'horse-66.jpg', 'horse-72.jpg', 'horse-67.jpg', 'horse-186.jpg', 'horse-151.jpg', 'horse-179.jpg', 'horse-98.jpg', 'horse-73.jpg', 'horse-145.jpg', 'horse-192.jpg', 'horse-153.jpg', 'horse-190.jpg', 'horse-2.jpg', 'horse-147.jpg', 'horse-184.jpg', 'horse-70.jpg', 'horse-58.jpg', 'horse-64.jpg', 'horse-65.jpg', 'horse-71.jpg', 'horse-59.jpg', 'horse-152.jpg', 'horse-3.jpg', 'horse-185.jpg', 'horse-201.jpg', 'horse-191.jpg', 'horse-146.jpg', 'horse-82.jpg', 'horse-177.jpg', 'horse-163.jpg', 'horse-188.jpg', 'horse-96.jpg', 'horse-69.jpg', 'horse-41.jpg', 'horse-162.jpg', 'horse-176.jpg', 'horse-97.jpg', 'horse-68.jpg', 'horse-40.jpg', 'horse-189.jpg', 'horse-55.jpg', 'horse-54.jpg', 'horse-83.jpg', 'horse-200.jpg', 'horse-202.jpg', 'horse-174.jpg', 'horse-81.jpg', 'horse-95.jpg', 'horse-56.jpg', 'horse-80.jpg', 'horse-43.jpg', 'horse-57.jpg', 'horse-160.jpg', 'horse-148.jpg', 'horse-42.jpg', 'horse-94.jpg', 'horse-121.jpg', 'horse-135.jpg', 'horse-17.jpg', 'horse-109.jpg', 'horse-16.jpg', 'horse-122.jpg', 'horse-136.jpg', 'horse-120.jpg', 'horse-15.jpg', 'horse-14.jpg', 'horse-29.jpg', 'horse-108.jpg', 'horse-28.jpg', 'horse-134.jpg', 'horse-123.jpg', 'horse-137.jpg', 'horse-133.jpg', 'horse-11.jpg', 'horse-39.jpg', 'horse-38.jpg', 'horse-132.jpg', 'horse-118.jpg', 'horse-124.jpg', 'horse-127.jpg', 'horse-10.jpg', 'horse-126.jpg', 'horse-130.jpg', 'horse-12.jpg', 'horse-125.jpg', 'horse-13.jpg', 'horse-131.jpg', 'horse-142.jpg', 'horse-181.jpg', 'horse-195.jpg', 'horse-7.jpg', 'horse-119.jpg', 'horse-48.jpg', 'horse-156.jpg', 'horse-49.jpg', 'horse-75.jpg', 'horse-61.jpg', 'horse-60.jpg', 'horse-74.jpg', 'horse-194.jpg', 'horse-180.jpg', 'horse-143.jpg', 'horse-157.jpg', 'horse-4.jpg', 'horse-6.jpg', 'horse-196.jpg', 'horse-155.jpg', 'horse-141.jpg', 'horse-169.jpg', 'horse-76.jpg', 'horse-63.jpg', 'horse-62.jpg', 'horse-182.jpg', 'horse-88.jpg', 'horse-77.jpg', 'horse-89.jpg', 'horse-168.jpg']\n"
          ],
          "name": "stdout"
        }
      ]
    },
    {
      "cell_type": "code",
      "metadata": {
        "id": "Ue0MsDTHMZWS",
        "colab_type": "code",
        "outputId": "1e43435b-ab68-4a0b-e6f1-2e025f78f4ea",
        "colab": {
          "base_uri": "https://localhost:8080/",
          "height": 34
        }
      },
      "source": [
        "from keras.preprocessing import image\n",
        "import matplotlib.pyplot as plt\n",
        "p = \"/content/gdrive/My Drive/Images/\"\n",
        "sample_path = p + \"cats/cat.202.jpg\"\n",
        "img = image.load_img(sample_path)\n",
        "print(type(img))"
      ],
      "execution_count": 0,
      "outputs": [
        {
          "output_type": "stream",
          "text": [
            "<class 'PIL.JpegImagePlugin.JpegImageFile'>\n"
          ],
          "name": "stdout"
        }
      ]
    },
    {
      "cell_type": "code",
      "metadata": {
        "id": "lJYuQIvCNJru",
        "colab_type": "code",
        "outputId": "b1786960-adba-4b4c-fee7-c1375f5c0853",
        "colab": {
          "base_uri": "https://localhost:8080/",
          "height": 269
        }
      },
      "source": [
        "x = image.img_to_array(img)/255.0\n",
        "plt.imshow(img)\n",
        "plt.show()"
      ],
      "execution_count": 0,
      "outputs": [
        {
          "output_type": "display_data",
          "data": {
            "image/png": "[encoded data removed]",
            "text/plain": [
              "<Figure size 432x288 with 1 Axes>"
            ]
          },
          "metadata": {
            "tags": []
          }
        }
      ]
    },
    {
      "cell_type": "code",
      "metadata": {
        "id": "2ydb11amNwkW",
        "colab_type": "code",
        "colab": {}
      },
      "source": [
        "# Creating Data Generators for Large Datasets"
      ],
      "execution_count": 0,
      "outputs": []
    },
    {
      "cell_type": "code",
      "metadata": {
        "id": "MuyK8uRmQgJD",
        "colab_type": "code",
        "colab": {}
      },
      "source": [
        "import pandas as pd\n",
        "import numpy as np\n",
        "import keras\n",
        "from keras.models import Sequential\n",
        "import keras.layers as layers\n",
        "from keras.utils import np_utils\n",
        "import tensorflow.compat.v1 as tf"
      ],
      "execution_count": 0,
      "outputs": []
    },
    {
      "cell_type": "code",
      "metadata": {
        "id": "hSxi7vrMQuUA",
        "colab_type": "code",
        "colab": {}
      },
      "source": [
        "### Building the CNN Model using Keras"
      ],
      "execution_count": 0,
      "outputs": []
    },
    {
      "cell_type": "code",
      "metadata": {
        "id": "6rffSp_JQwZT",
        "colab_type": "code",
        "outputId": "ca98c341-a1df-4f1c-a83d-1590804ee823",
        "colab": {
          "base_uri": "https://localhost:8080/",
          "height": 544
        }
      },
      "source": [
        "model = keras.Sequential()\n",
        "model.add(layers.Convolution2D(32, (3, 3), input_shape = (150, 150, 3), activation='relu'))\n",
        "model.add(layers.MaxPooling2D(pool_size=(2, 2)))\n",
        "model.add(layers.Convolution2D(64, (3, 3), activation='relu'))\n",
        "model.add(layers.MaxPooling2D(pool_size=(2, 2)))\n",
        "model.add(layers.Convolution2D(128, (3, 3), activation='relu'))\n",
        "model.add(layers.MaxPooling2D(pool_size=(2, 2)))\n",
        "model.add(layers.Convolution2D(128, (3, 3), activation='relu'))\n",
        "model.add(layers.MaxPooling2D(pool_size=(2, 2)))\n",
        "model.add(layers.Flatten())\n",
        "model.add(layers.Dense(128, activation='relu'))\n",
        "model.add(layers.Dense(4, activation='softmax'))\n",
        "print(model.summary())\n",
        "\n",
        "\n"
      ],
      "execution_count": 0,
      "outputs": [
        {
          "output_type": "stream",
          "text": [
            "Model: \"sequential_2\"\n",
            "_________________________________________________________________\n",
            "Layer (type)                 Output Shape              Param #   \n",
            "=================================================================\n",
            "conv2d_5 (Conv2D)            (None, 148, 148, 32)      896       \n",
            "_________________________________________________________________\n",
            "max_pooling2d_5 (MaxPooling2 (None, 74, 74, 32)        0         \n",
            "_________________________________________________________________\n",
            "conv2d_6 (Conv2D)            (None, 72, 72, 64)        18496     \n",
            "_________________________________________________________________\n",
            "max_pooling2d_6 (MaxPooling2 (None, 36, 36, 64)        0         \n",
            "_________________________________________________________________\n",
            "conv2d_7 (Conv2D)            (None, 34, 34, 128)       73856     \n",
            "_________________________________________________________________\n",
            "max_pooling2d_7 (MaxPooling2 (None, 17, 17, 128)       0         \n",
            "_________________________________________________________________\n",
            "conv2d_8 (Conv2D)            (None, 15, 15, 128)       147584    \n",
            "_________________________________________________________________\n",
            "max_pooling2d_8 (MaxPooling2 (None, 7, 7, 128)         0         \n",
            "_________________________________________________________________\n",
            "flatten_2 (Flatten)          (None, 6272)              0         \n",
            "_________________________________________________________________\n",
            "dense_3 (Dense)              (None, 128)               802944    \n",
            "_________________________________________________________________\n",
            "dense_4 (Dense)              (None, 4)                 516       \n",
            "=================================================================\n",
            "Total params: 1,044,292\n",
            "Trainable params: 1,044,292\n",
            "Non-trainable params: 0\n",
            "_________________________________________________________________\n",
            "None\n"
          ],
          "name": "stdout"
        }
      ]
    },
    {
      "cell_type": "code",
      "metadata": {
        "id": "Fwk-E87oSID0",
        "colab_type": "code",
        "outputId": "e574897d-f814-4267-849e-23bbeafbe19e",
        "colab": {
          "base_uri": "https://localhost:8080/",
          "height": 85
        }
      },
      "source": [
        "from keras import optimizers\n",
        "adam = optimizers.adam(lr = 1e-4)\n",
        "model.compile(loss = 'categorical_crossentropy', optimizer=adam, metrics=['acc'])"
      ],
      "execution_count": 0,
      "outputs": [
        {
          "output_type": "stream",
          "text": [
            "WARNING:tensorflow:From /usr/local/lib/python3.6/dist-packages/keras/optimizers.py:793: The name tf.train.Optimizer is deprecated. Please use tf.compat.v1.train.Optimizer instead.\n",
            "\n",
            "WARNING:tensorflow:From /usr/local/lib/python3.6/dist-packages/keras/backend/tensorflow_backend.py:3576: The name tf.log is deprecated. Please use tf.math.log instead.\n",
            "\n"
          ],
          "name": "stdout"
        }
      ]
    },
    {
      "cell_type": "code",
      "metadata": {
        "id": "C1fsXl5UTT4G",
        "colab_type": "code",
        "colab": {}
      },
      "source": [
        "from keras.preprocessing.image import ImageDataGenerator"
      ],
      "execution_count": 0,
      "outputs": []
    },
    {
      "cell_type": "code",
      "metadata": {
        "id": "BDdQw2VHTkIF",
        "colab_type": "code",
        "colab": {}
      },
      "source": [
        "train_gen = ImageDataGenerator(rescale=1.0/255)"
      ],
      "execution_count": 0,
      "outputs": []
    },
    {
      "cell_type": "code",
      "metadata": {
        "id": "2OZLo88eT1nq",
        "colab_type": "code",
        "outputId": "cdae1d3a-cb06-4997-9166-adb92fc0ae4a",
        "colab": {
          "base_uri": "https://localhost:8080/",
          "height": 34
        }
      },
      "source": [
        "train_generator = train_gen.flow_from_directory(p, target_size = (150, 150), batch_size = 32, class_mode = 'categorical')"
      ],
      "execution_count": 0,
      "outputs": [
        {
          "output_type": "stream",
          "text": [
            "Found 808 images belonging to 4 classes.\n"
          ],
          "name": "stdout"
        }
      ]
    },
    {
      "cell_type": "code",
      "metadata": {
        "id": "b6jgnp4qUiEc",
        "colab_type": "code",
        "outputId": "bb7c4d68-d92f-438f-cac2-5d9d834fa06b",
        "colab": {
          "base_uri": "https://localhost:8080/",
          "height": 646
        }
      },
      "source": [
        "train_generator.labels"
      ],
      "execution_count": 0,
      "outputs": [
        {
          "output_type": "execute_result",
          "data": {
            "text/plain": [
              "array([0, 0, 0, 0, 0, 0, 0, 0, 0, 0, 0, 0, 0, 0, 0, 0, 0, 0, 0, 0, 0, 0,\n",
              "       0, 0, 0, 0, 0, 0, 0, 0, 0, 0, 0, 0, 0, 0, 0, 0, 0, 0, 0, 0, 0, 0,\n",
              "       0, 0, 0, 0, 0, 0, 0, 0, 0, 0, 0, 0, 0, 0, 0, 0, 0, 0, 0, 0, 0, 0,\n",
              "       0, 0, 0, 0, 0, 0, 0, 0, 0, 0, 0, 0, 0, 0, 0, 0, 0, 0, 0, 0, 0, 0,\n",
              "       0, 0, 0, 0, 0, 0, 0, 0, 0, 0, 0, 0, 0, 0, 0, 0, 0, 0, 0, 0, 0, 0,\n",
              "       0, 0, 0, 0, 0, 0, 0, 0, 0, 0, 0, 0, 0, 0, 0, 0, 0, 0, 0, 0, 0, 0,\n",
              "       0, 0, 0, 0, 0, 0, 0, 0, 0, 0, 0, 0, 0, 0, 0, 0, 0, 0, 0, 0, 0, 0,\n",
              "       0, 0, 0, 0, 0, 0, 0, 0, 0, 0, 0, 0, 0, 0, 0, 0, 0, 0, 0, 0, 0, 0,\n",
              "       0, 0, 0, 0, 0, 0, 0, 0, 0, 0, 0, 0, 0, 0, 0, 0, 0, 0, 0, 0, 0, 0,\n",
              "       0, 0, 0, 0, 1, 1, 1, 1, 1, 1, 1, 1, 1, 1, 1, 1, 1, 1, 1, 1, 1, 1,\n",
              "       1, 1, 1, 1, 1, 1, 1, 1, 1, 1, 1, 1, 1, 1, 1, 1, 1, 1, 1, 1, 1, 1,\n",
              "       1, 1, 1, 1, 1, 1, 1, 1, 1, 1, 1, 1, 1, 1, 1, 1, 1, 1, 1, 1, 1, 1,\n",
              "       1, 1, 1, 1, 1, 1, 1, 1, 1, 1, 1, 1, 1, 1, 1, 1, 1, 1, 1, 1, 1, 1,\n",
              "       1, 1, 1, 1, 1, 1, 1, 1, 1, 1, 1, 1, 1, 1, 1, 1, 1, 1, 1, 1, 1, 1,\n",
              "       1, 1, 1, 1, 1, 1, 1, 1, 1, 1, 1, 1, 1, 1, 1, 1, 1, 1, 1, 1, 1, 1,\n",
              "       1, 1, 1, 1, 1, 1, 1, 1, 1, 1, 1, 1, 1, 1, 1, 1, 1, 1, 1, 1, 1, 1,\n",
              "       1, 1, 1, 1, 1, 1, 1, 1, 1, 1, 1, 1, 1, 1, 1, 1, 1, 1, 1, 1, 1, 1,\n",
              "       1, 1, 1, 1, 1, 1, 1, 1, 1, 1, 1, 1, 1, 1, 1, 1, 1, 1, 1, 1, 1, 1,\n",
              "       1, 1, 1, 1, 1, 1, 1, 1, 2, 2, 2, 2, 2, 2, 2, 2, 2, 2, 2, 2, 2, 2,\n",
              "       2, 2, 2, 2, 2, 2, 2, 2, 2, 2, 2, 2, 2, 2, 2, 2, 2, 2, 2, 2, 2, 2,\n",
              "       2, 2, 2, 2, 2, 2, 2, 2, 2, 2, 2, 2, 2, 2, 2, 2, 2, 2, 2, 2, 2, 2,\n",
              "       2, 2, 2, 2, 2, 2, 2, 2, 2, 2, 2, 2, 2, 2, 2, 2, 2, 2, 2, 2, 2, 2,\n",
              "       2, 2, 2, 2, 2, 2, 2, 2, 2, 2, 2, 2, 2, 2, 2, 2, 2, 2, 2, 2, 2, 2,\n",
              "       2, 2, 2, 2, 2, 2, 2, 2, 2, 2, 2, 2, 2, 2, 2, 2, 2, 2, 2, 2, 2, 2,\n",
              "       2, 2, 2, 2, 2, 2, 2, 2, 2, 2, 2, 2, 2, 2, 2, 2, 2, 2, 2, 2, 2, 2,\n",
              "       2, 2, 2, 2, 2, 2, 2, 2, 2, 2, 2, 2, 2, 2, 2, 2, 2, 2, 2, 2, 2, 2,\n",
              "       2, 2, 2, 2, 2, 2, 2, 2, 2, 2, 2, 2, 2, 2, 2, 2, 2, 2, 2, 2, 2, 2,\n",
              "       2, 2, 2, 2, 2, 2, 2, 2, 2, 2, 2, 2, 3, 3, 3, 3, 3, 3, 3, 3, 3, 3,\n",
              "       3, 3, 3, 3, 3, 3, 3, 3, 3, 3, 3, 3, 3, 3, 3, 3, 3, 3, 3, 3, 3, 3,\n",
              "       3, 3, 3, 3, 3, 3, 3, 3, 3, 3, 3, 3, 3, 3, 3, 3, 3, 3, 3, 3, 3, 3,\n",
              "       3, 3, 3, 3, 3, 3, 3, 3, 3, 3, 3, 3, 3, 3, 3, 3, 3, 3, 3, 3, 3, 3,\n",
              "       3, 3, 3, 3, 3, 3, 3, 3, 3, 3, 3, 3, 3, 3, 3, 3, 3, 3, 3, 3, 3, 3,\n",
              "       3, 3, 3, 3, 3, 3, 3, 3, 3, 3, 3, 3, 3, 3, 3, 3, 3, 3, 3, 3, 3, 3,\n",
              "       3, 3, 3, 3, 3, 3, 3, 3, 3, 3, 3, 3, 3, 3, 3, 3, 3, 3, 3, 3, 3, 3,\n",
              "       3, 3, 3, 3, 3, 3, 3, 3, 3, 3, 3, 3, 3, 3, 3, 3, 3, 3, 3, 3, 3, 3,\n",
              "       3, 3, 3, 3, 3, 3, 3, 3, 3, 3, 3, 3, 3, 3, 3, 3, 3, 3, 3, 3, 3, 3,\n",
              "       3, 3, 3, 3, 3, 3, 3, 3, 3, 3, 3, 3, 3, 3, 3, 3], dtype=int32)"
            ]
          },
          "metadata": {
            "tags": []
          },
          "execution_count": 89
        }
      ]
    },
    {
      "cell_type": "code",
      "metadata": {
        "id": "TR-8G9ALUpZD",
        "colab_type": "code",
        "outputId": "fd803eca-968a-4300-a3ad-5019aeb9d9e9",
        "colab": {
          "base_uri": "https://localhost:8080/",
          "height": 51
        }
      },
      "source": [
        "x, y = train_generator.next()\n",
        "print(x.shape)\n",
        "print(y.shape)"
      ],
      "execution_count": 0,
      "outputs": [
        {
          "output_type": "stream",
          "text": [
            "(32, 150, 150, 3)\n",
            "(32, 4)\n"
          ],
          "name": "stdout"
        }
      ]
    },
    {
      "cell_type": "code",
      "metadata": {
        "id": "fwu6IXzWUzz7",
        "colab_type": "code",
        "outputId": "eda8fd78-5a14-4761-d3fe-f7b97455192c",
        "colab": {
          "base_uri": "https://localhost:8080/",
          "height": 358
        }
      },
      "source": [
        "for x,y in train_generator:\n",
        "  x, y = train_generator.next()\n",
        "  print(x.shape)\n",
        "  print(y.shape)"
      ],
      "execution_count": 0,
      "outputs": [
        {
          "output_type": "error",
          "ename": "KeyboardInterrupt",
          "evalue": "ignored",
          "traceback": [
            "\u001b[0;31m---------------------------------------------------------------------------\u001b[0m",
            "\u001b[0;31mKeyboardInterrupt\u001b[0m                         Traceback (most recent call last)",
            "\u001b[0;32m<ipython-input-22-d396302b7a78>\u001b[0m in \u001b[0;36m<module>\u001b[0;34m()\u001b[0m\n\u001b[1;32m      1\u001b[0m \u001b[0;32mfor\u001b[0m \u001b[0mx\u001b[0m\u001b[0;34m,\u001b[0m\u001b[0my\u001b[0m \u001b[0;32min\u001b[0m \u001b[0mtrain_generator\u001b[0m\u001b[0;34m:\u001b[0m\u001b[0;34m\u001b[0m\u001b[0;34m\u001b[0m\u001b[0m\n\u001b[0;32m----> 2\u001b[0;31m   \u001b[0mx\u001b[0m\u001b[0;34m,\u001b[0m \u001b[0my\u001b[0m \u001b[0;34m=\u001b[0m \u001b[0mtrain_generator\u001b[0m\u001b[0;34m.\u001b[0m\u001b[0mnext\u001b[0m\u001b[0;34m(\u001b[0m\u001b[0;34m)\u001b[0m\u001b[0;34m\u001b[0m\u001b[0;34m\u001b[0m\u001b[0m\n\u001b[0m\u001b[1;32m      3\u001b[0m   \u001b[0mprint\u001b[0m\u001b[0;34m(\u001b[0m\u001b[0mx\u001b[0m\u001b[0;34m.\u001b[0m\u001b[0mshape\u001b[0m\u001b[0;34m)\u001b[0m\u001b[0;34m\u001b[0m\u001b[0;34m\u001b[0m\u001b[0m\n\u001b[1;32m      4\u001b[0m   \u001b[0mprint\u001b[0m\u001b[0;34m(\u001b[0m\u001b[0my\u001b[0m\u001b[0;34m.\u001b[0m\u001b[0mshape\u001b[0m\u001b[0;34m)\u001b[0m\u001b[0;34m\u001b[0m\u001b[0;34m\u001b[0m\u001b[0m\n",
            "\u001b[0;32m/usr/local/lib/python3.6/dist-packages/keras_preprocessing/image/iterator.py\u001b[0m in \u001b[0;36mnext\u001b[0;34m(self)\u001b[0m\n\u001b[1;32m    114\u001b[0m         \u001b[0;31m# The transformation of images is not under thread lock\u001b[0m\u001b[0;34m\u001b[0m\u001b[0;34m\u001b[0m\u001b[0;34m\u001b[0m\u001b[0m\n\u001b[1;32m    115\u001b[0m         \u001b[0;31m# so it can be done in parallel\u001b[0m\u001b[0;34m\u001b[0m\u001b[0;34m\u001b[0m\u001b[0;34m\u001b[0m\u001b[0m\n\u001b[0;32m--> 116\u001b[0;31m         \u001b[0;32mreturn\u001b[0m \u001b[0mself\u001b[0m\u001b[0;34m.\u001b[0m\u001b[0m_get_batches_of_transformed_samples\u001b[0m\u001b[0;34m(\u001b[0m\u001b[0mindex_array\u001b[0m\u001b[0;34m)\u001b[0m\u001b[0;34m\u001b[0m\u001b[0;34m\u001b[0m\u001b[0m\n\u001b[0m\u001b[1;32m    117\u001b[0m \u001b[0;34m\u001b[0m\u001b[0m\n\u001b[1;32m    118\u001b[0m     \u001b[0;32mdef\u001b[0m \u001b[0m_get_batches_of_transformed_samples\u001b[0m\u001b[0;34m(\u001b[0m\u001b[0mself\u001b[0m\u001b[0;34m,\u001b[0m \u001b[0mindex_array\u001b[0m\u001b[0;34m)\u001b[0m\u001b[0;34m:\u001b[0m\u001b[0;34m\u001b[0m\u001b[0;34m\u001b[0m\u001b[0m\n",
            "\u001b[0;32m/usr/local/lib/python3.6/dist-packages/keras_preprocessing/image/iterator.py\u001b[0m in \u001b[0;36m_get_batches_of_transformed_samples\u001b[0;34m(self, index_array)\u001b[0m\n\u001b[1;32m    228\u001b[0m                            \u001b[0mcolor_mode\u001b[0m\u001b[0;34m=\u001b[0m\u001b[0mself\u001b[0m\u001b[0;34m.\u001b[0m\u001b[0mcolor_mode\u001b[0m\u001b[0;34m,\u001b[0m\u001b[0;34m\u001b[0m\u001b[0;34m\u001b[0m\u001b[0m\n\u001b[1;32m    229\u001b[0m                            \u001b[0mtarget_size\u001b[0m\u001b[0;34m=\u001b[0m\u001b[0mself\u001b[0m\u001b[0;34m.\u001b[0m\u001b[0mtarget_size\u001b[0m\u001b[0;34m,\u001b[0m\u001b[0;34m\u001b[0m\u001b[0;34m\u001b[0m\u001b[0m\n\u001b[0;32m--> 230\u001b[0;31m                            interpolation=self.interpolation)\n\u001b[0m\u001b[1;32m    231\u001b[0m             \u001b[0mx\u001b[0m \u001b[0;34m=\u001b[0m \u001b[0mimg_to_array\u001b[0m\u001b[0;34m(\u001b[0m\u001b[0mimg\u001b[0m\u001b[0;34m,\u001b[0m \u001b[0mdata_format\u001b[0m\u001b[0;34m=\u001b[0m\u001b[0mself\u001b[0m\u001b[0;34m.\u001b[0m\u001b[0mdata_format\u001b[0m\u001b[0;34m)\u001b[0m\u001b[0;34m\u001b[0m\u001b[0;34m\u001b[0m\u001b[0m\n\u001b[1;32m    232\u001b[0m             \u001b[0;31m# Pillow images should be closed after `load_img`,\u001b[0m\u001b[0;34m\u001b[0m\u001b[0;34m\u001b[0m\u001b[0;34m\u001b[0m\u001b[0m\n",
            "\u001b[0;32m/usr/local/lib/python3.6/dist-packages/keras_preprocessing/image/utils.py\u001b[0m in \u001b[0;36mload_img\u001b[0;34m(path, grayscale, color_mode, target_size, interpolation)\u001b[0m\n\u001b[1;32m    108\u001b[0m         raise ImportError('Could not import PIL.Image. '\n\u001b[1;32m    109\u001b[0m                           'The use of `load_img` requires PIL.')\n\u001b[0;32m--> 110\u001b[0;31m     \u001b[0mimg\u001b[0m \u001b[0;34m=\u001b[0m \u001b[0mpil_image\u001b[0m\u001b[0;34m.\u001b[0m\u001b[0mopen\u001b[0m\u001b[0;34m(\u001b[0m\u001b[0mpath\u001b[0m\u001b[0;34m)\u001b[0m\u001b[0;34m\u001b[0m\u001b[0;34m\u001b[0m\u001b[0m\n\u001b[0m\u001b[1;32m    111\u001b[0m     \u001b[0;32mif\u001b[0m \u001b[0mcolor_mode\u001b[0m \u001b[0;34m==\u001b[0m \u001b[0;34m'grayscale'\u001b[0m\u001b[0;34m:\u001b[0m\u001b[0;34m\u001b[0m\u001b[0;34m\u001b[0m\u001b[0m\n\u001b[1;32m    112\u001b[0m         \u001b[0;32mif\u001b[0m \u001b[0mimg\u001b[0m\u001b[0;34m.\u001b[0m\u001b[0mmode\u001b[0m \u001b[0;34m!=\u001b[0m \u001b[0;34m'L'\u001b[0m\u001b[0;34m:\u001b[0m\u001b[0;34m\u001b[0m\u001b[0;34m\u001b[0m\u001b[0m\n",
            "\u001b[0;32m/usr/local/lib/python3.6/dist-packages/PIL/Image.py\u001b[0m in \u001b[0;36mopen\u001b[0;34m(fp, mode)\u001b[0m\n\u001b[1;32m   2537\u001b[0m         \u001b[0mexclusive_fp\u001b[0m \u001b[0;34m=\u001b[0m \u001b[0;32mTrue\u001b[0m\u001b[0;34m\u001b[0m\u001b[0;34m\u001b[0m\u001b[0m\n\u001b[1;32m   2538\u001b[0m \u001b[0;34m\u001b[0m\u001b[0m\n\u001b[0;32m-> 2539\u001b[0;31m     \u001b[0mprefix\u001b[0m \u001b[0;34m=\u001b[0m \u001b[0mfp\u001b[0m\u001b[0;34m.\u001b[0m\u001b[0mread\u001b[0m\u001b[0;34m(\u001b[0m\u001b[0;36m16\u001b[0m\u001b[0;34m)\u001b[0m\u001b[0;34m\u001b[0m\u001b[0;34m\u001b[0m\u001b[0m\n\u001b[0m\u001b[1;32m   2540\u001b[0m \u001b[0;34m\u001b[0m\u001b[0m\n\u001b[1;32m   2541\u001b[0m     \u001b[0mpreinit\u001b[0m\u001b[0;34m(\u001b[0m\u001b[0;34m)\u001b[0m\u001b[0;34m\u001b[0m\u001b[0;34m\u001b[0m\u001b[0m\n",
            "\u001b[0;31mKeyboardInterrupt\u001b[0m: "
          ]
        }
      ]
    },
    {
      "cell_type": "code",
      "metadata": {
        "id": "KKgJZhuGVLDh",
        "colab_type": "code",
        "colab": {}
      },
      "source": [
        "model.fit_generator?"
      ],
      "execution_count": 0,
      "outputs": []
    },
    {
      "cell_type": "code",
      "metadata": {
        "id": "EVBXHoSOVRzA",
        "colab_type": "code",
        "outputId": "2e67d48b-914d-47cc-c43c-60a5a948d50e",
        "colab": {
          "base_uri": "https://localhost:8080/",
          "height": 497
        }
      },
      "source": [
        "history = model.fit_generator(train_generator, epochs = 20, steps_per_epoch = 7)"
      ],
      "execution_count": 0,
      "outputs": [
        {
          "output_type": "stream",
          "text": [
            "WARNING:tensorflow:From /usr/local/lib/python3.6/dist-packages/tensorflow_core/python/ops/math_grad.py:1424: where (from tensorflow.python.ops.array_ops) is deprecated and will be removed in a future version.\n",
            "Instructions for updating:\n",
            "Use tf.where in 2.0, which has the same broadcast rule as np.where\n",
            "WARNING:tensorflow:From /usr/local/lib/python3.6/dist-packages/keras/backend/tensorflow_backend.py:1033: The name tf.assign_add is deprecated. Please use tf.compat.v1.assign_add instead.\n",
            "\n",
            "WARNING:tensorflow:From /usr/local/lib/python3.6/dist-packages/keras/backend/tensorflow_backend.py:1020: The name tf.assign is deprecated. Please use tf.compat.v1.assign instead.\n",
            "\n",
            "WARNING:tensorflow:From /usr/local/lib/python3.6/dist-packages/keras/backend/tensorflow_backend.py:3005: The name tf.Session is deprecated. Please use tf.compat.v1.Session instead.\n",
            "\n",
            "Epoch 1/20\n"
          ],
          "name": "stdout"
        },
        {
          "output_type": "error",
          "ename": "FileNotFoundError",
          "evalue": "ignored",
          "traceback": [
            "\u001b[0;31m---------------------------------------------------------------------------\u001b[0m",
            "\u001b[0;31mFileNotFoundError\u001b[0m                         Traceback (most recent call last)",
            "\u001b[0;32m<ipython-input-104-4411e2e2d553>\u001b[0m in \u001b[0;36m<module>\u001b[0;34m()\u001b[0m\n\u001b[0;32m----> 1\u001b[0;31m \u001b[0mhistory\u001b[0m \u001b[0;34m=\u001b[0m \u001b[0mmodel\u001b[0m\u001b[0;34m.\u001b[0m\u001b[0mfit_generator\u001b[0m\u001b[0;34m(\u001b[0m\u001b[0mtrain_generator\u001b[0m\u001b[0;34m,\u001b[0m \u001b[0mepochs\u001b[0m \u001b[0;34m=\u001b[0m \u001b[0;36m20\u001b[0m\u001b[0;34m,\u001b[0m \u001b[0msteps_per_epoch\u001b[0m \u001b[0;34m=\u001b[0m \u001b[0;36m7\u001b[0m\u001b[0;34m)\u001b[0m\u001b[0;34m\u001b[0m\u001b[0;34m\u001b[0m\u001b[0m\n\u001b[0m",
            "\u001b[0;32m/usr/local/lib/python3.6/dist-packages/keras/legacy/interfaces.py\u001b[0m in \u001b[0;36mwrapper\u001b[0;34m(*args, **kwargs)\u001b[0m\n\u001b[1;32m     89\u001b[0m                 warnings.warn('Update your `' + object_name + '` call to the ' +\n\u001b[1;32m     90\u001b[0m                               'Keras 2 API: ' + signature, stacklevel=2)\n\u001b[0;32m---> 91\u001b[0;31m             \u001b[0;32mreturn\u001b[0m \u001b[0mfunc\u001b[0m\u001b[0;34m(\u001b[0m\u001b[0;34m*\u001b[0m\u001b[0margs\u001b[0m\u001b[0;34m,\u001b[0m \u001b[0;34m**\u001b[0m\u001b[0mkwargs\u001b[0m\u001b[0;34m)\u001b[0m\u001b[0;34m\u001b[0m\u001b[0;34m\u001b[0m\u001b[0m\n\u001b[0m\u001b[1;32m     92\u001b[0m         \u001b[0mwrapper\u001b[0m\u001b[0;34m.\u001b[0m\u001b[0m_original_function\u001b[0m \u001b[0;34m=\u001b[0m \u001b[0mfunc\u001b[0m\u001b[0;34m\u001b[0m\u001b[0;34m\u001b[0m\u001b[0m\n\u001b[1;32m     93\u001b[0m         \u001b[0;32mreturn\u001b[0m \u001b[0mwrapper\u001b[0m\u001b[0;34m\u001b[0m\u001b[0;34m\u001b[0m\u001b[0m\n",
            "\u001b[0;32m/usr/local/lib/python3.6/dist-packages/keras/engine/training.py\u001b[0m in \u001b[0;36mfit_generator\u001b[0;34m(self, generator, steps_per_epoch, epochs, verbose, callbacks, validation_data, validation_steps, validation_freq, class_weight, max_queue_size, workers, use_multiprocessing, shuffle, initial_epoch)\u001b[0m\n\u001b[1;32m   1656\u001b[0m             \u001b[0muse_multiprocessing\u001b[0m\u001b[0;34m=\u001b[0m\u001b[0muse_multiprocessing\u001b[0m\u001b[0;34m,\u001b[0m\u001b[0;34m\u001b[0m\u001b[0;34m\u001b[0m\u001b[0m\n\u001b[1;32m   1657\u001b[0m             \u001b[0mshuffle\u001b[0m\u001b[0;34m=\u001b[0m\u001b[0mshuffle\u001b[0m\u001b[0;34m,\u001b[0m\u001b[0;34m\u001b[0m\u001b[0;34m\u001b[0m\u001b[0m\n\u001b[0;32m-> 1658\u001b[0;31m             initial_epoch=initial_epoch)\n\u001b[0m\u001b[1;32m   1659\u001b[0m \u001b[0;34m\u001b[0m\u001b[0m\n\u001b[1;32m   1660\u001b[0m     \u001b[0;34m@\u001b[0m\u001b[0minterfaces\u001b[0m\u001b[0;34m.\u001b[0m\u001b[0mlegacy_generator_methods_support\u001b[0m\u001b[0;34m\u001b[0m\u001b[0;34m\u001b[0m\u001b[0m\n",
            "\u001b[0;32m/usr/local/lib/python3.6/dist-packages/keras/engine/training_generator.py\u001b[0m in \u001b[0;36mfit_generator\u001b[0;34m(model, generator, steps_per_epoch, epochs, verbose, callbacks, validation_data, validation_steps, validation_freq, class_weight, max_queue_size, workers, use_multiprocessing, shuffle, initial_epoch)\u001b[0m\n\u001b[1;32m    179\u001b[0m             \u001b[0mbatch_index\u001b[0m \u001b[0;34m=\u001b[0m \u001b[0;36m0\u001b[0m\u001b[0;34m\u001b[0m\u001b[0;34m\u001b[0m\u001b[0m\n\u001b[1;32m    180\u001b[0m             \u001b[0;32mwhile\u001b[0m \u001b[0msteps_done\u001b[0m \u001b[0;34m<\u001b[0m \u001b[0msteps_per_epoch\u001b[0m\u001b[0;34m:\u001b[0m\u001b[0;34m\u001b[0m\u001b[0;34m\u001b[0m\u001b[0m\n\u001b[0;32m--> 181\u001b[0;31m                 \u001b[0mgenerator_output\u001b[0m \u001b[0;34m=\u001b[0m \u001b[0mnext\u001b[0m\u001b[0;34m(\u001b[0m\u001b[0moutput_generator\u001b[0m\u001b[0;34m)\u001b[0m\u001b[0;34m\u001b[0m\u001b[0;34m\u001b[0m\u001b[0m\n\u001b[0m\u001b[1;32m    182\u001b[0m \u001b[0;34m\u001b[0m\u001b[0m\n\u001b[1;32m    183\u001b[0m                 \u001b[0;32mif\u001b[0m \u001b[0;32mnot\u001b[0m \u001b[0mhasattr\u001b[0m\u001b[0;34m(\u001b[0m\u001b[0mgenerator_output\u001b[0m\u001b[0;34m,\u001b[0m \u001b[0;34m'__len__'\u001b[0m\u001b[0;34m)\u001b[0m\u001b[0;34m:\u001b[0m\u001b[0;34m\u001b[0m\u001b[0;34m\u001b[0m\u001b[0m\n",
            "\u001b[0;32m/usr/local/lib/python3.6/dist-packages/keras/utils/data_utils.py\u001b[0m in \u001b[0;36mget\u001b[0;34m(self)\u001b[0m\n\u001b[1;32m    614\u001b[0m         \u001b[0;32mexcept\u001b[0m \u001b[0mException\u001b[0m\u001b[0;34m:\u001b[0m\u001b[0;34m\u001b[0m\u001b[0;34m\u001b[0m\u001b[0m\n\u001b[1;32m    615\u001b[0m             \u001b[0mself\u001b[0m\u001b[0;34m.\u001b[0m\u001b[0mstop\u001b[0m\u001b[0;34m(\u001b[0m\u001b[0;34m)\u001b[0m\u001b[0;34m\u001b[0m\u001b[0;34m\u001b[0m\u001b[0m\n\u001b[0;32m--> 616\u001b[0;31m             \u001b[0msix\u001b[0m\u001b[0;34m.\u001b[0m\u001b[0mreraise\u001b[0m\u001b[0;34m(\u001b[0m\u001b[0;34m*\u001b[0m\u001b[0msys\u001b[0m\u001b[0;34m.\u001b[0m\u001b[0mexc_info\u001b[0m\u001b[0;34m(\u001b[0m\u001b[0;34m)\u001b[0m\u001b[0;34m)\u001b[0m\u001b[0;34m\u001b[0m\u001b[0;34m\u001b[0m\u001b[0m\n\u001b[0m\u001b[1;32m    617\u001b[0m \u001b[0;34m\u001b[0m\u001b[0m\n\u001b[1;32m    618\u001b[0m \u001b[0;34m\u001b[0m\u001b[0m\n",
            "\u001b[0;32m/usr/local/lib/python3.6/dist-packages/six.py\u001b[0m in \u001b[0;36mreraise\u001b[0;34m(tp, value, tb)\u001b[0m\n\u001b[1;32m    691\u001b[0m             \u001b[0;32mif\u001b[0m \u001b[0mvalue\u001b[0m\u001b[0;34m.\u001b[0m\u001b[0m__traceback__\u001b[0m \u001b[0;32mis\u001b[0m \u001b[0;32mnot\u001b[0m \u001b[0mtb\u001b[0m\u001b[0;34m:\u001b[0m\u001b[0;34m\u001b[0m\u001b[0;34m\u001b[0m\u001b[0m\n\u001b[1;32m    692\u001b[0m                 \u001b[0;32mraise\u001b[0m \u001b[0mvalue\u001b[0m\u001b[0;34m.\u001b[0m\u001b[0mwith_traceback\u001b[0m\u001b[0;34m(\u001b[0m\u001b[0mtb\u001b[0m\u001b[0;34m)\u001b[0m\u001b[0;34m\u001b[0m\u001b[0;34m\u001b[0m\u001b[0m\n\u001b[0;32m--> 693\u001b[0;31m             \u001b[0;32mraise\u001b[0m \u001b[0mvalue\u001b[0m\u001b[0;34m\u001b[0m\u001b[0;34m\u001b[0m\u001b[0m\n\u001b[0m\u001b[1;32m    694\u001b[0m         \u001b[0;32mfinally\u001b[0m\u001b[0;34m:\u001b[0m\u001b[0;34m\u001b[0m\u001b[0;34m\u001b[0m\u001b[0m\n\u001b[1;32m    695\u001b[0m             \u001b[0mvalue\u001b[0m \u001b[0;34m=\u001b[0m \u001b[0;32mNone\u001b[0m\u001b[0;34m\u001b[0m\u001b[0;34m\u001b[0m\u001b[0m\n",
            "\u001b[0;32m/usr/local/lib/python3.6/dist-packages/keras/utils/data_utils.py\u001b[0m in \u001b[0;36mget\u001b[0;34m(self)\u001b[0m\n\u001b[1;32m    601\u001b[0m                 \u001b[0;32mtry\u001b[0m\u001b[0;34m:\u001b[0m\u001b[0;34m\u001b[0m\u001b[0;34m\u001b[0m\u001b[0m\n\u001b[1;32m    602\u001b[0m                     \u001b[0mfuture\u001b[0m \u001b[0;34m=\u001b[0m \u001b[0mself\u001b[0m\u001b[0;34m.\u001b[0m\u001b[0mqueue\u001b[0m\u001b[0;34m.\u001b[0m\u001b[0mget\u001b[0m\u001b[0;34m(\u001b[0m\u001b[0mblock\u001b[0m\u001b[0;34m=\u001b[0m\u001b[0;32mTrue\u001b[0m\u001b[0;34m)\u001b[0m\u001b[0;34m\u001b[0m\u001b[0;34m\u001b[0m\u001b[0m\n\u001b[0;32m--> 603\u001b[0;31m                     \u001b[0minputs\u001b[0m \u001b[0;34m=\u001b[0m \u001b[0mfuture\u001b[0m\u001b[0;34m.\u001b[0m\u001b[0mget\u001b[0m\u001b[0;34m(\u001b[0m\u001b[0mtimeout\u001b[0m\u001b[0;34m=\u001b[0m\u001b[0;36m30\u001b[0m\u001b[0;34m)\u001b[0m\u001b[0;34m\u001b[0m\u001b[0;34m\u001b[0m\u001b[0m\n\u001b[0m\u001b[1;32m    604\u001b[0m                     \u001b[0mself\u001b[0m\u001b[0;34m.\u001b[0m\u001b[0mqueue\u001b[0m\u001b[0;34m.\u001b[0m\u001b[0mtask_done\u001b[0m\u001b[0;34m(\u001b[0m\u001b[0;34m)\u001b[0m\u001b[0;34m\u001b[0m\u001b[0;34m\u001b[0m\u001b[0m\n\u001b[1;32m    605\u001b[0m                 \u001b[0;32mexcept\u001b[0m \u001b[0mmp\u001b[0m\u001b[0;34m.\u001b[0m\u001b[0mTimeoutError\u001b[0m\u001b[0;34m:\u001b[0m\u001b[0;34m\u001b[0m\u001b[0;34m\u001b[0m\u001b[0m\n",
            "\u001b[0;32m/usr/lib/python3.6/multiprocessing/pool.py\u001b[0m in \u001b[0;36mget\u001b[0;34m(self, timeout)\u001b[0m\n\u001b[1;32m    642\u001b[0m             \u001b[0;32mreturn\u001b[0m \u001b[0mself\u001b[0m\u001b[0;34m.\u001b[0m\u001b[0m_value\u001b[0m\u001b[0;34m\u001b[0m\u001b[0;34m\u001b[0m\u001b[0m\n\u001b[1;32m    643\u001b[0m         \u001b[0;32melse\u001b[0m\u001b[0;34m:\u001b[0m\u001b[0;34m\u001b[0m\u001b[0;34m\u001b[0m\u001b[0m\n\u001b[0;32m--> 644\u001b[0;31m             \u001b[0;32mraise\u001b[0m \u001b[0mself\u001b[0m\u001b[0;34m.\u001b[0m\u001b[0m_value\u001b[0m\u001b[0;34m\u001b[0m\u001b[0;34m\u001b[0m\u001b[0m\n\u001b[0m\u001b[1;32m    645\u001b[0m \u001b[0;34m\u001b[0m\u001b[0m\n\u001b[1;32m    646\u001b[0m     \u001b[0;32mdef\u001b[0m \u001b[0m_set\u001b[0m\u001b[0;34m(\u001b[0m\u001b[0mself\u001b[0m\u001b[0;34m,\u001b[0m \u001b[0mi\u001b[0m\u001b[0;34m,\u001b[0m \u001b[0mobj\u001b[0m\u001b[0;34m)\u001b[0m\u001b[0;34m:\u001b[0m\u001b[0;34m\u001b[0m\u001b[0;34m\u001b[0m\u001b[0m\n",
            "\u001b[0;32m/usr/lib/python3.6/multiprocessing/pool.py\u001b[0m in \u001b[0;36mworker\u001b[0;34m(inqueue, outqueue, initializer, initargs, maxtasks, wrap_exception)\u001b[0m\n\u001b[1;32m    117\u001b[0m         \u001b[0mjob\u001b[0m\u001b[0;34m,\u001b[0m \u001b[0mi\u001b[0m\u001b[0;34m,\u001b[0m \u001b[0mfunc\u001b[0m\u001b[0;34m,\u001b[0m \u001b[0margs\u001b[0m\u001b[0;34m,\u001b[0m \u001b[0mkwds\u001b[0m \u001b[0;34m=\u001b[0m \u001b[0mtask\u001b[0m\u001b[0;34m\u001b[0m\u001b[0;34m\u001b[0m\u001b[0m\n\u001b[1;32m    118\u001b[0m         \u001b[0;32mtry\u001b[0m\u001b[0;34m:\u001b[0m\u001b[0;34m\u001b[0m\u001b[0;34m\u001b[0m\u001b[0m\n\u001b[0;32m--> 119\u001b[0;31m             \u001b[0mresult\u001b[0m \u001b[0;34m=\u001b[0m \u001b[0;34m(\u001b[0m\u001b[0;32mTrue\u001b[0m\u001b[0;34m,\u001b[0m \u001b[0mfunc\u001b[0m\u001b[0;34m(\u001b[0m\u001b[0;34m*\u001b[0m\u001b[0margs\u001b[0m\u001b[0;34m,\u001b[0m \u001b[0;34m**\u001b[0m\u001b[0mkwds\u001b[0m\u001b[0;34m)\u001b[0m\u001b[0;34m)\u001b[0m\u001b[0;34m\u001b[0m\u001b[0;34m\u001b[0m\u001b[0m\n\u001b[0m\u001b[1;32m    120\u001b[0m         \u001b[0;32mexcept\u001b[0m \u001b[0mException\u001b[0m \u001b[0;32mas\u001b[0m \u001b[0me\u001b[0m\u001b[0;34m:\u001b[0m\u001b[0;34m\u001b[0m\u001b[0;34m\u001b[0m\u001b[0m\n\u001b[1;32m    121\u001b[0m             \u001b[0;32mif\u001b[0m \u001b[0mwrap_exception\u001b[0m \u001b[0;32mand\u001b[0m \u001b[0mfunc\u001b[0m \u001b[0;32mis\u001b[0m \u001b[0;32mnot\u001b[0m \u001b[0m_helper_reraises_exception\u001b[0m\u001b[0;34m:\u001b[0m\u001b[0;34m\u001b[0m\u001b[0;34m\u001b[0m\u001b[0m\n",
            "\u001b[0;32m/usr/local/lib/python3.6/dist-packages/keras/utils/data_utils.py\u001b[0m in \u001b[0;36mget_index\u001b[0;34m(uid, i)\u001b[0m\n\u001b[1;32m    404\u001b[0m         \u001b[0mThe\u001b[0m \u001b[0mvalue\u001b[0m \u001b[0mat\u001b[0m \u001b[0mindex\u001b[0m\u001b[0;31m \u001b[0m\u001b[0;31m`\u001b[0m\u001b[0mi\u001b[0m\u001b[0;31m`\u001b[0m\u001b[0;34m.\u001b[0m\u001b[0;34m\u001b[0m\u001b[0;34m\u001b[0m\u001b[0m\n\u001b[1;32m    405\u001b[0m     \"\"\"\n\u001b[0;32m--> 406\u001b[0;31m     \u001b[0;32mreturn\u001b[0m \u001b[0m_SHARED_SEQUENCES\u001b[0m\u001b[0;34m[\u001b[0m\u001b[0muid\u001b[0m\u001b[0;34m]\u001b[0m\u001b[0;34m[\u001b[0m\u001b[0mi\u001b[0m\u001b[0;34m]\u001b[0m\u001b[0;34m\u001b[0m\u001b[0;34m\u001b[0m\u001b[0m\n\u001b[0m\u001b[1;32m    407\u001b[0m \u001b[0;34m\u001b[0m\u001b[0m\n\u001b[1;32m    408\u001b[0m \u001b[0;34m\u001b[0m\u001b[0m\n",
            "\u001b[0;32m/usr/local/lib/python3.6/dist-packages/keras_preprocessing/image/iterator.py\u001b[0m in \u001b[0;36m__getitem__\u001b[0;34m(self, idx)\u001b[0m\n\u001b[1;32m     63\u001b[0m         index_array = self.index_array[self.batch_size * idx:\n\u001b[1;32m     64\u001b[0m                                        self.batch_size * (idx + 1)]\n\u001b[0;32m---> 65\u001b[0;31m         \u001b[0;32mreturn\u001b[0m \u001b[0mself\u001b[0m\u001b[0;34m.\u001b[0m\u001b[0m_get_batches_of_transformed_samples\u001b[0m\u001b[0;34m(\u001b[0m\u001b[0mindex_array\u001b[0m\u001b[0;34m)\u001b[0m\u001b[0;34m\u001b[0m\u001b[0;34m\u001b[0m\u001b[0m\n\u001b[0m\u001b[1;32m     66\u001b[0m \u001b[0;34m\u001b[0m\u001b[0m\n\u001b[1;32m     67\u001b[0m     \u001b[0;32mdef\u001b[0m \u001b[0m__len__\u001b[0m\u001b[0;34m(\u001b[0m\u001b[0mself\u001b[0m\u001b[0;34m)\u001b[0m\u001b[0;34m:\u001b[0m\u001b[0;34m\u001b[0m\u001b[0;34m\u001b[0m\u001b[0m\n",
            "\u001b[0;32m/usr/local/lib/python3.6/dist-packages/keras_preprocessing/image/iterator.py\u001b[0m in \u001b[0;36m_get_batches_of_transformed_samples\u001b[0;34m(self, index_array)\u001b[0m\n\u001b[1;32m    228\u001b[0m                            \u001b[0mcolor_mode\u001b[0m\u001b[0;34m=\u001b[0m\u001b[0mself\u001b[0m\u001b[0;34m.\u001b[0m\u001b[0mcolor_mode\u001b[0m\u001b[0;34m,\u001b[0m\u001b[0;34m\u001b[0m\u001b[0;34m\u001b[0m\u001b[0m\n\u001b[1;32m    229\u001b[0m                            \u001b[0mtarget_size\u001b[0m\u001b[0;34m=\u001b[0m\u001b[0mself\u001b[0m\u001b[0;34m.\u001b[0m\u001b[0mtarget_size\u001b[0m\u001b[0;34m,\u001b[0m\u001b[0;34m\u001b[0m\u001b[0;34m\u001b[0m\u001b[0m\n\u001b[0;32m--> 230\u001b[0;31m                            interpolation=self.interpolation)\n\u001b[0m\u001b[1;32m    231\u001b[0m             \u001b[0mx\u001b[0m \u001b[0;34m=\u001b[0m \u001b[0mimg_to_array\u001b[0m\u001b[0;34m(\u001b[0m\u001b[0mimg\u001b[0m\u001b[0;34m,\u001b[0m \u001b[0mdata_format\u001b[0m\u001b[0;34m=\u001b[0m\u001b[0mself\u001b[0m\u001b[0;34m.\u001b[0m\u001b[0mdata_format\u001b[0m\u001b[0;34m)\u001b[0m\u001b[0;34m\u001b[0m\u001b[0;34m\u001b[0m\u001b[0m\n\u001b[1;32m    232\u001b[0m             \u001b[0;31m# Pillow images should be closed after `load_img`,\u001b[0m\u001b[0;34m\u001b[0m\u001b[0;34m\u001b[0m\u001b[0;34m\u001b[0m\u001b[0m\n",
            "\u001b[0;32m/usr/local/lib/python3.6/dist-packages/keras_preprocessing/image/utils.py\u001b[0m in \u001b[0;36mload_img\u001b[0;34m(path, grayscale, color_mode, target_size, interpolation)\u001b[0m\n\u001b[1;32m    108\u001b[0m         raise ImportError('Could not import PIL.Image. '\n\u001b[1;32m    109\u001b[0m                           'The use of `load_img` requires PIL.')\n\u001b[0;32m--> 110\u001b[0;31m     \u001b[0mimg\u001b[0m \u001b[0;34m=\u001b[0m \u001b[0mpil_image\u001b[0m\u001b[0;34m.\u001b[0m\u001b[0mopen\u001b[0m\u001b[0;34m(\u001b[0m\u001b[0mpath\u001b[0m\u001b[0;34m)\u001b[0m\u001b[0;34m\u001b[0m\u001b[0;34m\u001b[0m\u001b[0m\n\u001b[0m\u001b[1;32m    111\u001b[0m     \u001b[0;32mif\u001b[0m \u001b[0mcolor_mode\u001b[0m \u001b[0;34m==\u001b[0m \u001b[0;34m'grayscale'\u001b[0m\u001b[0;34m:\u001b[0m\u001b[0;34m\u001b[0m\u001b[0;34m\u001b[0m\u001b[0m\n\u001b[1;32m    112\u001b[0m         \u001b[0;32mif\u001b[0m \u001b[0mimg\u001b[0m\u001b[0;34m.\u001b[0m\u001b[0mmode\u001b[0m \u001b[0;34m!=\u001b[0m \u001b[0;34m'L'\u001b[0m\u001b[0;34m:\u001b[0m\u001b[0;34m\u001b[0m\u001b[0;34m\u001b[0m\u001b[0m\n",
            "\u001b[0;32m/usr/local/lib/python3.6/dist-packages/PIL/Image.py\u001b[0m in \u001b[0;36mopen\u001b[0;34m(fp, mode)\u001b[0m\n\u001b[1;32m   2528\u001b[0m \u001b[0;34m\u001b[0m\u001b[0m\n\u001b[1;32m   2529\u001b[0m     \u001b[0;32mif\u001b[0m \u001b[0mfilename\u001b[0m\u001b[0;34m:\u001b[0m\u001b[0;34m\u001b[0m\u001b[0;34m\u001b[0m\u001b[0m\n\u001b[0;32m-> 2530\u001b[0;31m         \u001b[0mfp\u001b[0m \u001b[0;34m=\u001b[0m \u001b[0mbuiltins\u001b[0m\u001b[0;34m.\u001b[0m\u001b[0mopen\u001b[0m\u001b[0;34m(\u001b[0m\u001b[0mfilename\u001b[0m\u001b[0;34m,\u001b[0m \u001b[0;34m\"rb\"\u001b[0m\u001b[0;34m)\u001b[0m\u001b[0;34m\u001b[0m\u001b[0;34m\u001b[0m\u001b[0m\n\u001b[0m\u001b[1;32m   2531\u001b[0m         \u001b[0mexclusive_fp\u001b[0m \u001b[0;34m=\u001b[0m \u001b[0;32mTrue\u001b[0m\u001b[0;34m\u001b[0m\u001b[0;34m\u001b[0m\u001b[0m\n\u001b[1;32m   2532\u001b[0m \u001b[0;34m\u001b[0m\u001b[0m\n",
            "\u001b[0;31mFileNotFoundError\u001b[0m: [Errno 2] No such file or directory: '/content/gdrive/My Drive/Images/horses/horse-76.jpg'"
          ]
        }
      ]
    },
    {
      "cell_type": "code",
      "metadata": {
        "id": "pWlzWtVyW-CY",
        "colab_type": "code",
        "outputId": "b5a813ad-ef7e-480a-ef25-6017024f7314",
        "colab": {
          "base_uri": "https://localhost:8080/",
          "height": 1000
        }
      },
      "source": [
        "history = model.fit_generator(train_generator, epochs = 40, steps_per_epoch = 7)"
      ],
      "execution_count": 0,
      "outputs": [
        {
          "output_type": "stream",
          "text": [
            "Epoch 1/40\n",
            "7/7 [==============================] - 10s 1s/step - loss: 0.9250 - acc: 0.6027\n",
            "Epoch 2/40\n",
            "7/7 [==============================] - 8s 1s/step - loss: 0.9541 - acc: 0.5910\n",
            "Epoch 3/40\n",
            "7/7 [==============================] - 8s 1s/step - loss: 0.9603 - acc: 0.6205\n",
            "Epoch 4/40\n",
            "7/7 [==============================] - 9s 1s/step - loss: 0.9916 - acc: 0.5759\n",
            "Epoch 5/40\n",
            "7/7 [==============================] - 9s 1s/step - loss: 0.8471 - acc: 0.6696\n",
            "Epoch 6/40\n",
            "7/7 [==============================] - 9s 1s/step - loss: 0.8626 - acc: 0.6964\n",
            "Epoch 7/40\n",
            "7/7 [==============================] - 7s 1s/step - loss: 0.8140 - acc: 0.6587\n",
            "Epoch 8/40\n",
            "7/7 [==============================] - 9s 1s/step - loss: 0.9408 - acc: 0.5938\n",
            "Epoch 9/40\n",
            "7/7 [==============================] - 8s 1s/step - loss: 0.8933 - acc: 0.6269\n",
            "Epoch 10/40\n",
            "7/7 [==============================] - 9s 1s/step - loss: 0.8229 - acc: 0.6562\n",
            "Epoch 11/40\n",
            "7/7 [==============================] - 8s 1s/step - loss: 0.8504 - acc: 0.5938\n",
            "Epoch 12/40\n",
            "7/7 [==============================] - 9s 1s/step - loss: 0.9003 - acc: 0.5734\n",
            "Epoch 13/40\n",
            "7/7 [==============================] - 9s 1s/step - loss: 0.8882 - acc: 0.5982\n",
            "Epoch 14/40\n",
            "7/7 [==============================] - 9s 1s/step - loss: 0.9064 - acc: 0.5982\n",
            "Epoch 15/40\n",
            "7/7 [==============================] - 10s 1s/step - loss: 0.7447 - acc: 0.7143\n",
            "Epoch 16/40\n",
            "7/7 [==============================] - 9s 1s/step - loss: 0.6957 - acc: 0.7232\n",
            "Epoch 17/40\n",
            "7/7 [==============================] - 9s 1s/step - loss: 0.7169 - acc: 0.7054\n",
            "Epoch 18/40\n",
            "7/7 [==============================] - 9s 1s/step - loss: 0.8120 - acc: 0.6562\n",
            "Epoch 19/40\n",
            "7/7 [==============================] - 9s 1s/step - loss: 0.7445 - acc: 0.7361\n",
            "Epoch 20/40\n",
            "7/7 [==============================] - 9s 1s/step - loss: 0.7407 - acc: 0.7321\n",
            "Epoch 21/40\n",
            "7/7 [==============================] - 9s 1s/step - loss: 0.6692 - acc: 0.7366\n",
            "Epoch 22/40\n",
            "7/7 [==============================] - 7s 1s/step - loss: 0.7278 - acc: 0.7002\n",
            "Epoch 23/40\n",
            "7/7 [==============================] - 10s 1s/step - loss: 0.6792 - acc: 0.7188\n",
            "Epoch 24/40\n",
            "7/7 [==============================] - 8s 1s/step - loss: 0.6679 - acc: 0.7452\n",
            "Epoch 25/40\n",
            "7/7 [==============================] - 9s 1s/step - loss: 0.6714 - acc: 0.7277\n",
            "Epoch 26/40\n",
            "7/7 [==============================] - 9s 1s/step - loss: 0.6727 - acc: 0.7232\n",
            "Epoch 27/40\n",
            "7/7 [==============================] - 8s 1s/step - loss: 0.5756 - acc: 0.8043\n",
            "Epoch 28/40\n",
            "7/7 [==============================] - 9s 1s/step - loss: 0.6160 - acc: 0.7902\n",
            "Epoch 29/40\n",
            "7/7 [==============================] - 8s 1s/step - loss: 0.6076 - acc: 0.7455\n",
            "Epoch 30/40\n",
            "7/7 [==============================] - 9s 1s/step - loss: 0.5845 - acc: 0.7589\n",
            "Epoch 31/40\n",
            "7/7 [==============================] - 8s 1s/step - loss: 0.6830 - acc: 0.7275\n",
            "Epoch 32/40\n",
            "7/7 [==============================] - 9s 1s/step - loss: 0.5984 - acc: 0.7991\n",
            "Epoch 33/40\n",
            "7/7 [==============================] - 8s 1s/step - loss: 0.6577 - acc: 0.7321\n",
            "Epoch 34/40\n",
            "7/7 [==============================] - 10s 1s/step - loss: 0.4930 - acc: 0.8304\n",
            "Epoch 35/40\n",
            "7/7 [==============================] - 9s 1s/step - loss: 0.5410 - acc: 0.8125\n",
            "Epoch 36/40\n",
            "7/7 [==============================] - 9s 1s/step - loss: 0.5994 - acc: 0.7679\n",
            "Epoch 37/40\n",
            "7/7 [==============================] - 7s 1s/step - loss: 0.5325 - acc: 0.7816\n",
            "Epoch 38/40\n",
            "7/7 [==============================] - 9s 1s/step - loss: 0.4758 - acc: 0.8316\n",
            "Epoch 39/40\n",
            "7/7 [==============================] - 9s 1s/step - loss: 0.6000 - acc: 0.7723\n",
            "Epoch 40/40\n",
            "7/7 [==============================] - 8s 1s/step - loss: 0.4791 - acc: 0.8125\n"
          ],
          "name": "stdout"
        }
      ]
    },
    {
      "cell_type": "markdown",
      "metadata": {
        "id": "h2AXwj1adRqW",
        "colab_type": "text"
      },
      "source": [
        "# Creating a Validation Set from the Training Dataset"
      ]
    },
    {
      "cell_type": "code",
      "metadata": {
        "id": "5iPT-X2YZZT7",
        "colab_type": "code",
        "colab": {}
      },
      "source": [
        "import os, shutil"
      ],
      "execution_count": 0,
      "outputs": []
    },
    {
      "cell_type": "code",
      "metadata": {
        "id": "3-7sIDVoda2d",
        "colab_type": "code",
        "colab": {}
      },
      "source": [
        "folders = os.listdir(p)"
      ],
      "execution_count": 0,
      "outputs": []
    },
    {
      "cell_type": "code",
      "metadata": {
        "id": "CV57LBVMdzQE",
        "colab_type": "code",
        "colab": {}
      },
      "source": [
        "if not os.path.isdir(\"val_images\"):\n",
        "  os.mkdir(\"val_images\")\n",
        "classes = [\"dogs\", \"cats\", \"horses\", \"humans\"]\n",
        "!ls \"val_images/dogs\""
      ],
      "execution_count": 0,
      "outputs": []
    },
    {
      "cell_type": "code",
      "metadata": {
        "id": "9KSuoW9weC63",
        "colab_type": "code",
        "colab": {}
      },
      "source": [
        "for c in classes:\n",
        "  path = os.path.join(\"val_images/\", c)\n",
        "  if not os.path.isdir(path):\n",
        "    os.mkdir(path)"
      ],
      "execution_count": 0,
      "outputs": []
    },
    {
      "cell_type": "code",
      "metadata": {
        "id": "xjGUXeSkeY5I",
        "colab_type": "code",
        "colab": {}
      },
      "source": [
        "SPLIT = 0.9"
      ],
      "execution_count": 0,
      "outputs": []
    },
    {
      "cell_type": "code",
      "metadata": {
        "id": "sc0d6oJceiAm",
        "colab_type": "code",
        "outputId": "1eefa79b-b5ca-431d-a04a-36cc72e16970",
        "colab": {
          "base_uri": "https://localhost:8080/",
          "height": 1000
        }
      },
      "source": [
        "for f in os.listdir(p):\n",
        "  path = p + f\n",
        "  imgs = os.listdir(path)\n",
        "\n",
        "  split_size = int(SPLIT * len(imgs))\n",
        "  files_to_move = imgs[split_size:]\n",
        "  print(len(files_to_move))\n",
        "\n",
        "  for img_f in files_to_move:\n",
        "    src = os.path.join(path, img_f)\n",
        "    dest = os.path.join(\"val_images/\" + f, img_f)\n",
        "    shutil.move(src, dest)\n",
        "    print(src)\n",
        "    print(dest)\n"
      ],
      "execution_count": 0,
      "outputs": [
        {
          "output_type": "stream",
          "text": [
            "21\n",
            "/content/gdrive/My Drive/Images/humans/rider-56.jpg\n",
            "val_images/humans/rider-56.jpg\n",
            "/content/gdrive/My Drive/Images/humans/rider-161.jpg\n",
            "val_images/humans/rider-161.jpg\n",
            "/content/gdrive/My Drive/Images/humans/rider-80.jpg\n",
            "val_images/humans/rider-80.jpg\n",
            "/content/gdrive/My Drive/Images/humans/rider-202.jpg\n",
            "val_images/humans/rider-202.jpg\n",
            "/content/gdrive/My Drive/Images/humans/rider-81.jpg\n",
            "val_images/humans/rider-81.jpg\n",
            "/content/gdrive/My Drive/Images/humans/rider-148.jpg\n",
            "val_images/humans/rider-148.jpg\n",
            "/content/gdrive/My Drive/Images/humans/rider-200.jpg\n",
            "val_images/humans/rider-200.jpg\n",
            "/content/gdrive/My Drive/Images/humans/rider-68.jpg\n",
            "val_images/humans/rider-68.jpg\n",
            "/content/gdrive/My Drive/Images/humans/rider-54.jpg\n",
            "val_images/humans/rider-54.jpg\n",
            "/content/gdrive/My Drive/Images/humans/rider-189.jpg\n",
            "val_images/humans/rider-189.jpg\n",
            "/content/gdrive/My Drive/Images/humans/rider-40.jpg\n",
            "val_images/humans/rider-40.jpg\n",
            "/content/gdrive/My Drive/Images/humans/rider-163.jpg\n",
            "val_images/humans/rider-163.jpg\n",
            "/content/gdrive/My Drive/Images/humans/rider-176.jpg\n",
            "val_images/humans/rider-176.jpg\n",
            "/content/gdrive/My Drive/Images/humans/rider-162.jpg\n",
            "val_images/humans/rider-162.jpg\n",
            "/content/gdrive/My Drive/Images/humans/rider-83.jpg\n",
            "val_images/humans/rider-83.jpg\n",
            "/content/gdrive/My Drive/Images/humans/rider-97.jpg\n",
            "val_images/humans/rider-97.jpg\n",
            "/content/gdrive/My Drive/Images/humans/rider-177.jpg\n",
            "val_images/humans/rider-177.jpg\n",
            "/content/gdrive/My Drive/Images/humans/rider-96.jpg\n",
            "val_images/humans/rider-96.jpg\n",
            "/content/gdrive/My Drive/Images/humans/rider-55.jpg\n",
            "val_images/humans/rider-55.jpg\n",
            "/content/gdrive/My Drive/Images/humans/rider-69.jpg\n",
            "val_images/humans/rider-69.jpg\n",
            "/content/gdrive/My Drive/Images/humans/rider-188.jpg\n",
            "val_images/humans/rider-188.jpg\n",
            "21\n",
            "/content/gdrive/My Drive/Images/dogs/dog.39.jpg\n",
            "val_images/dogs/dog.39.jpg\n",
            "/content/gdrive/My Drive/Images/dogs/dog.11.jpg\n",
            "val_images/dogs/dog.11.jpg\n",
            "/content/gdrive/My Drive/Images/dogs/dog.197.jpg\n",
            "val_images/dogs/dog.197.jpg\n",
            "/content/gdrive/My Drive/Images/dogs/dog.140.jpg\n",
            "val_images/dogs/dog.140.jpg\n",
            "/content/gdrive/My Drive/Images/dogs/dog.168.jpg\n",
            "val_images/dogs/dog.168.jpg\n",
            "/content/gdrive/My Drive/Images/dogs/dog.150.jpg\n",
            "val_images/dogs/dog.150.jpg\n",
            "/content/gdrive/My Drive/Images/dogs/dog.15.jpg\n",
            "val_images/dogs/dog.15.jpg\n",
            "/content/gdrive/My Drive/Images/dogs/dog.178.jpg\n",
            "val_images/dogs/dog.178.jpg\n",
            "/content/gdrive/My Drive/Images/dogs/dog.144.jpg\n",
            "val_images/dogs/dog.144.jpg\n",
            "/content/gdrive/My Drive/Images/dogs/dog.29.jpg\n",
            "val_images/dogs/dog.29.jpg\n",
            "/content/gdrive/My Drive/Images/dogs/dog.192.jpg\n",
            "val_images/dogs/dog.192.jpg\n",
            "/content/gdrive/My Drive/Images/dogs/dog.193.jpg\n",
            "val_images/dogs/dog.193.jpg\n",
            "/content/gdrive/My Drive/Images/dogs/dog.187.jpg\n",
            "val_images/dogs/dog.187.jpg\n",
            "/content/gdrive/My Drive/Images/dogs/dog.14.jpg\n",
            "val_images/dogs/dog.14.jpg\n",
            "/content/gdrive/My Drive/Images/dogs/dog.179.jpg\n",
            "val_images/dogs/dog.179.jpg\n",
            "/content/gdrive/My Drive/Images/dogs/dog.186.jpg\n",
            "val_images/dogs/dog.186.jpg\n",
            "/content/gdrive/My Drive/Images/dogs/dog.28.jpg\n",
            "val_images/dogs/dog.28.jpg\n",
            "/content/gdrive/My Drive/Images/dogs/dog.153.jpg\n",
            "val_images/dogs/dog.153.jpg\n",
            "/content/gdrive/My Drive/Images/dogs/dog.147.jpg\n",
            "val_images/dogs/dog.147.jpg\n",
            "/content/gdrive/My Drive/Images/dogs/dog.16.jpg\n",
            "val_images/dogs/dog.16.jpg\n",
            "/content/gdrive/My Drive/Images/dogs/dog.145.jpg\n",
            "val_images/dogs/dog.145.jpg\n",
            "21\n",
            "/content/gdrive/My Drive/Images/cats/cat.122.jpg\n",
            "val_images/cats/cat.122.jpg\n",
            "/content/gdrive/My Drive/Images/cats/cat.61.jpg\n",
            "val_images/cats/cat.61.jpg\n",
            "/content/gdrive/My Drive/Images/cats/cat.75.jpg\n",
            "val_images/cats/cat.75.jpg\n",
            "/content/gdrive/My Drive/Images/cats/cat.64.jpg\n",
            "val_images/cats/cat.64.jpg\n",
            "/content/gdrive/My Drive/Images/cats/cat.137.jpg\n",
            "val_images/cats/cat.137.jpg\n",
            "/content/gdrive/My Drive/Images/cats/cat.48.jpg\n",
            "val_images/cats/cat.48.jpg\n",
            "/content/gdrive/My Drive/Images/cats/cat.70.jpg\n",
            "val_images/cats/cat.70.jpg\n",
            "/content/gdrive/My Drive/Images/cats/cat.74.jpg\n",
            "val_images/cats/cat.74.jpg\n",
            "/content/gdrive/My Drive/Images/cats/cat.60.jpg\n",
            "val_images/cats/cat.60.jpg\n",
            "/content/gdrive/My Drive/Images/cats/cat.58.jpg\n",
            "val_images/cats/cat.58.jpg\n",
            "/content/gdrive/My Drive/Images/cats/cat.133.jpg\n",
            "val_images/cats/cat.133.jpg\n",
            "/content/gdrive/My Drive/Images/cats/cat.127.jpg\n",
            "val_images/cats/cat.127.jpg\n",
            "/content/gdrive/My Drive/Images/cats/cat.123.jpg\n",
            "val_images/cats/cat.123.jpg\n",
            "/content/gdrive/My Drive/Images/cats/cat.126.jpg\n",
            "val_images/cats/cat.126.jpg\n",
            "/content/gdrive/My Drive/Images/cats/cat.132.jpg\n",
            "val_images/cats/cat.132.jpg\n",
            "/content/gdrive/My Drive/Images/cats/cat.59.jpg\n",
            "val_images/cats/cat.59.jpg\n",
            "/content/gdrive/My Drive/Images/cats/cat.124.jpg\n",
            "val_images/cats/cat.124.jpg\n",
            "/content/gdrive/My Drive/Images/cats/cat.73.jpg\n",
            "val_images/cats/cat.73.jpg\n",
            "/content/gdrive/My Drive/Images/cats/cat.118.jpg\n",
            "val_images/cats/cat.118.jpg\n",
            "/content/gdrive/My Drive/Images/cats/cat.67.jpg\n",
            "val_images/cats/cat.67.jpg\n",
            "/content/gdrive/My Drive/Images/cats/cat.130.jpg\n",
            "val_images/cats/cat.130.jpg\n",
            "21\n",
            "/content/gdrive/My Drive/Images/horses/horse-61.jpg\n",
            "val_images/horses/horse-61.jpg\n",
            "/content/gdrive/My Drive/Images/horses/horse-60.jpg\n",
            "val_images/horses/horse-60.jpg\n",
            "/content/gdrive/My Drive/Images/horses/horse-74.jpg\n",
            "val_images/horses/horse-74.jpg\n",
            "/content/gdrive/My Drive/Images/horses/horse-194.jpg\n",
            "val_images/horses/horse-194.jpg\n",
            "/content/gdrive/My Drive/Images/horses/horse-180.jpg\n",
            "val_images/horses/horse-180.jpg\n",
            "/content/gdrive/My Drive/Images/horses/horse-143.jpg\n",
            "val_images/horses/horse-143.jpg\n",
            "/content/gdrive/My Drive/Images/horses/horse-157.jpg\n",
            "val_images/horses/horse-157.jpg\n",
            "/content/gdrive/My Drive/Images/horses/horse-4.jpg\n",
            "val_images/horses/horse-4.jpg\n",
            "/content/gdrive/My Drive/Images/horses/horse-6.jpg\n",
            "val_images/horses/horse-6.jpg\n",
            "/content/gdrive/My Drive/Images/horses/horse-196.jpg\n",
            "val_images/horses/horse-196.jpg\n",
            "/content/gdrive/My Drive/Images/horses/horse-155.jpg\n",
            "val_images/horses/horse-155.jpg\n",
            "/content/gdrive/My Drive/Images/horses/horse-141.jpg\n",
            "val_images/horses/horse-141.jpg\n",
            "/content/gdrive/My Drive/Images/horses/horse-169.jpg\n",
            "val_images/horses/horse-169.jpg\n",
            "/content/gdrive/My Drive/Images/horses/horse-76.jpg\n",
            "val_images/horses/horse-76.jpg\n",
            "/content/gdrive/My Drive/Images/horses/horse-63.jpg\n",
            "val_images/horses/horse-63.jpg\n",
            "/content/gdrive/My Drive/Images/horses/horse-62.jpg\n",
            "val_images/horses/horse-62.jpg\n",
            "/content/gdrive/My Drive/Images/horses/horse-182.jpg\n",
            "val_images/horses/horse-182.jpg\n",
            "/content/gdrive/My Drive/Images/horses/horse-88.jpg\n",
            "val_images/horses/horse-88.jpg\n",
            "/content/gdrive/My Drive/Images/horses/horse-77.jpg\n",
            "val_images/horses/horse-77.jpg\n",
            "/content/gdrive/My Drive/Images/horses/horse-89.jpg\n",
            "val_images/horses/horse-89.jpg\n",
            "/content/gdrive/My Drive/Images/horses/horse-168.jpg\n",
            "val_images/horses/horse-168.jpg\n"
          ],
          "name": "stdout"
        }
      ]
    },
    {
      "cell_type": "code",
      "metadata": {
        "id": "RntAMTVmfT0Q",
        "colab_type": "code",
        "colab": {}
      },
      "source": [
        ""
      ],
      "execution_count": 0,
      "outputs": []
    },
    {
      "cell_type": "code",
      "metadata": {
        "id": "82_Jw1S2gvvl",
        "colab_type": "code",
        "outputId": "e004e682-1a66-4537-c33e-6d1799c8f4b4",
        "colab": {
          "base_uri": "https://localhost:8080/",
          "height": 102
        }
      },
      "source": [
        "print(\"Training Data\")\n",
        "for f in folders:\n",
        "  path = p + f\n",
        "  print(f + \" \" + str(len(os.listdir(path))))"
      ],
      "execution_count": 0,
      "outputs": [
        {
          "output_type": "stream",
          "text": [
            "Training Data\n",
            "humans 181\n",
            "dogs 181\n",
            "cats 181\n",
            "horses 181\n"
          ],
          "name": "stdout"
        }
      ]
    },
    {
      "cell_type": "code",
      "metadata": {
        "id": "zUvc-3Q6jll5",
        "colab_type": "code",
        "outputId": "c602a1f1-1981-40c5-fa42-97023349d5a7",
        "colab": {
          "base_uri": "https://localhost:8080/",
          "height": 102
        }
      },
      "source": [
        "print(\"Validation Data\")\n",
        "for f in folders:\n",
        "  path = \"val_images/\" + f\n",
        "  print(f + \" \" + str(len(os.listdir(path))))"
      ],
      "execution_count": 0,
      "outputs": [
        {
          "output_type": "stream",
          "text": [
            "Validation Data\n",
            "humans 21\n",
            "dogs 21\n",
            "cats 21\n",
            "horses 21\n"
          ],
          "name": "stdout"
        }
      ]
    },
    {
      "cell_type": "code",
      "metadata": {
        "id": "J2J07bp5KlJu",
        "colab_type": "code",
        "colab": {}
      },
      "source": [
        ""
      ],
      "execution_count": 0,
      "outputs": []
    },
    {
      "cell_type": "markdown",
      "metadata": {
        "id": "cs-64Jp5K3pN",
        "colab_type": "text"
      },
      "source": [
        "# Training the Model on the Validation Set and Visualising the Results"
      ]
    },
    {
      "cell_type": "code",
      "metadata": {
        "id": "1lXNUdkIK7YH",
        "colab_type": "code",
        "colab": {}
      },
      "source": [
        "train_gen = ImageDataGenerator(rescale=1.0/255)\n",
        "val_gen = ImageDataGenerator(rescale=1.0/255)"
      ],
      "execution_count": 0,
      "outputs": []
    },
    {
      "cell_type": "code",
      "metadata": {
        "id": "MZUCg3hULac2",
        "colab_type": "code",
        "outputId": "9330e0be-37e7-4fdf-b3c2-36e789612f8a",
        "colab": {
          "base_uri": "https://localhost:8080/",
          "height": 51
        }
      },
      "source": [
        "train_generator = train_gen.flow_from_directory(p, target_size = (150, 150), batch_size = 32, class_mode = 'categorical')\n",
        "val_generator = train_gen.flow_from_directory(\"val_images/\", target_size = (150, 150), batch_size = 32, class_mode = 'categorical')"
      ],
      "execution_count": 0,
      "outputs": [
        {
          "output_type": "stream",
          "text": [
            "Found 724 images belonging to 4 classes.\n",
            "Found 84 images belonging to 4 classes.\n"
          ],
          "name": "stdout"
        }
      ]
    },
    {
      "cell_type": "code",
      "metadata": {
        "id": "gejLHWOPMVcT",
        "colab_type": "code",
        "outputId": "4e16e860-59a4-4638-e705-e16f3627e9d5",
        "colab": {
          "base_uri": "https://localhost:8080/",
          "height": 544
        }
      },
      "source": [
        "model = keras.Sequential()\n",
        "model.add(layers.Convolution2D(32, (3, 3), input_shape = (150, 150, 3), activation='relu'))\n",
        "model.add(layers.MaxPooling2D(pool_size=(2, 2)))\n",
        "model.add(layers.Convolution2D(64, (3, 3), activation='relu'))\n",
        "model.add(layers.MaxPooling2D(pool_size=(2, 2)))\n",
        "model.add(layers.Convolution2D(128, (3, 3), activation='relu'))\n",
        "model.add(layers.MaxPooling2D(pool_size=(2, 2)))\n",
        "model.add(layers.Convolution2D(128, (3, 3), activation='relu'))\n",
        "model.add(layers.MaxPooling2D(pool_size=(2, 2)))\n",
        "model.add(layers.Flatten())\n",
        "model.add(layers.Dense(128, activation='relu'))\n",
        "model.add(layers.Dense(4, activation='softmax'))\n",
        "print(model.summary())"
      ],
      "execution_count": 0,
      "outputs": [
        {
          "output_type": "stream",
          "text": [
            "Model: \"sequential_3\"\n",
            "_________________________________________________________________\n",
            "Layer (type)                 Output Shape              Param #   \n",
            "=================================================================\n",
            "conv2d_9 (Conv2D)            (None, 148, 148, 32)      896       \n",
            "_________________________________________________________________\n",
            "max_pooling2d_9 (MaxPooling2 (None, 74, 74, 32)        0         \n",
            "_________________________________________________________________\n",
            "conv2d_10 (Conv2D)           (None, 72, 72, 64)        18496     \n",
            "_________________________________________________________________\n",
            "max_pooling2d_10 (MaxPooling (None, 36, 36, 64)        0         \n",
            "_________________________________________________________________\n",
            "conv2d_11 (Conv2D)           (None, 34, 34, 128)       73856     \n",
            "_________________________________________________________________\n",
            "max_pooling2d_11 (MaxPooling (None, 17, 17, 128)       0         \n",
            "_________________________________________________________________\n",
            "conv2d_12 (Conv2D)           (None, 15, 15, 128)       147584    \n",
            "_________________________________________________________________\n",
            "max_pooling2d_12 (MaxPooling (None, 7, 7, 128)         0         \n",
            "_________________________________________________________________\n",
            "flatten_3 (Flatten)          (None, 6272)              0         \n",
            "_________________________________________________________________\n",
            "dense_5 (Dense)              (None, 128)               802944    \n",
            "_________________________________________________________________\n",
            "dense_6 (Dense)              (None, 4)                 516       \n",
            "=================================================================\n",
            "Total params: 1,044,292\n",
            "Trainable params: 1,044,292\n",
            "Non-trainable params: 0\n",
            "_________________________________________________________________\n",
            "None\n"
          ],
          "name": "stdout"
        }
      ]
    },
    {
      "cell_type": "code",
      "metadata": {
        "id": "NP_h2wA0MXQ3",
        "colab_type": "code",
        "colab": {}
      },
      "source": [
        "from keras import optimizers\n",
        "adam = optimizers.adam(lr = 1e-4)\n",
        "model.compile(loss = 'categorical_crossentropy', optimizer=adam, metrics=['acc'])"
      ],
      "execution_count": 0,
      "outputs": []
    },
    {
      "cell_type": "code",
      "metadata": {
        "id": "vrtc7BifLwxl",
        "colab_type": "code",
        "outputId": "35c642d6-7fe1-4def-fc8f-daadda043689",
        "colab": {
          "base_uri": "https://localhost:8080/",
          "height": 1000
        }
      },
      "source": [
        "history = model.fit_generator(train_generator, epochs = 50, steps_per_epoch = 7, validation_data = val_generator, validation_steps= 4)"
      ],
      "execution_count": 0,
      "outputs": [
        {
          "output_type": "stream",
          "text": [
            "Epoch 1/50\n",
            "7/7 [==============================] - 1s 140ms/step - loss: 0.8606 - acc: 0.6529 - val_loss: 0.8734 - val_acc: 0.5862\n",
            "Epoch 2/50\n",
            "7/7 [==============================] - 1s 145ms/step - loss: 0.9823 - acc: 0.6071 - val_loss: 0.9690 - val_acc: 0.5603\n",
            "Epoch 3/50\n",
            "7/7 [==============================] - 1s 115ms/step - loss: 0.9654 - acc: 0.6161 - val_loss: 0.9005 - val_acc: 0.6346\n",
            "Epoch 4/50\n",
            "7/7 [==============================] - 1s 134ms/step - loss: 0.8594 - acc: 0.6741 - val_loss: 0.9629 - val_acc: 0.5862\n",
            "Epoch 5/50\n",
            "7/7 [==============================] - 1s 122ms/step - loss: 0.7952 - acc: 0.7097 - val_loss: 0.8437 - val_acc: 0.5776\n",
            "Epoch 6/50\n",
            "7/7 [==============================] - 1s 138ms/step - loss: 0.8853 - acc: 0.6250 - val_loss: 0.9053 - val_acc: 0.6442\n",
            "Epoch 7/50\n",
            "7/7 [==============================] - 1s 93ms/step - loss: 0.9116 - acc: 0.6194 - val_loss: 0.8203 - val_acc: 0.6379\n",
            "Epoch 8/50\n",
            "7/7 [==============================] - 1s 134ms/step - loss: 0.8157 - acc: 0.6607 - val_loss: 0.9387 - val_acc: 0.6293\n",
            "Epoch 9/50\n",
            "7/7 [==============================] - 1s 132ms/step - loss: 0.8072 - acc: 0.6741 - val_loss: 0.8195 - val_acc: 0.6923\n",
            "Epoch 10/50\n",
            "7/7 [==============================] - 1s 119ms/step - loss: 0.7954 - acc: 0.6830 - val_loss: 0.8755 - val_acc: 0.5862\n",
            "Epoch 11/50\n",
            "7/7 [==============================] - 1s 116ms/step - loss: 0.7386 - acc: 0.7025 - val_loss: 1.0093 - val_acc: 0.5345\n",
            "Epoch 12/50\n",
            "7/7 [==============================] - 1s 120ms/step - loss: 0.8983 - acc: 0.6250 - val_loss: 0.8615 - val_acc: 0.5962\n",
            "Epoch 13/50\n",
            "7/7 [==============================] - 1s 104ms/step - loss: 0.8079 - acc: 0.6429 - val_loss: 0.9526 - val_acc: 0.6034\n",
            "Epoch 14/50\n",
            "7/7 [==============================] - 1s 162ms/step - loss: 0.8163 - acc: 0.6429 - val_loss: 0.8094 - val_acc: 0.6379\n",
            "Epoch 15/50\n",
            "7/7 [==============================] - 1s 122ms/step - loss: 0.7607 - acc: 0.6875 - val_loss: 0.8204 - val_acc: 0.6635\n",
            "Epoch 16/50\n",
            "7/7 [==============================] - 1s 96ms/step - loss: 0.7259 - acc: 0.6935 - val_loss: 0.7501 - val_acc: 0.6983\n",
            "Epoch 17/50\n",
            "7/7 [==============================] - 1s 142ms/step - loss: 0.7057 - acc: 0.7321 - val_loss: 0.8893 - val_acc: 0.6207\n",
            "Epoch 18/50\n",
            "7/7 [==============================] - 1s 120ms/step - loss: 0.6770 - acc: 0.7188 - val_loss: 0.8097 - val_acc: 0.6250\n",
            "Epoch 19/50\n",
            "7/7 [==============================] - 1s 97ms/step - loss: 0.6322 - acc: 0.7812 - val_loss: 0.9628 - val_acc: 0.5776\n",
            "Epoch 20/50\n",
            "7/7 [==============================] - 1s 140ms/step - loss: 0.8207 - acc: 0.6599 - val_loss: 0.8844 - val_acc: 0.5517\n",
            "Epoch 21/50\n",
            "7/7 [==============================] - 1s 108ms/step - loss: 0.6738 - acc: 0.7545 - val_loss: 0.8305 - val_acc: 0.6442\n",
            "Epoch 22/50\n",
            "7/7 [==============================] - 1s 96ms/step - loss: 0.6228 - acc: 0.7768 - val_loss: 0.8594 - val_acc: 0.5603\n",
            "Epoch 23/50\n",
            "7/7 [==============================] - 1s 139ms/step - loss: 0.6389 - acc: 0.7321 - val_loss: 0.8441 - val_acc: 0.6293\n",
            "Epoch 24/50\n",
            "7/7 [==============================] - 1s 139ms/step - loss: 0.6296 - acc: 0.7389 - val_loss: 0.8567 - val_acc: 0.6058\n",
            "Epoch 25/50\n",
            "7/7 [==============================] - 1s 96ms/step - loss: 0.6562 - acc: 0.7500 - val_loss: 0.9057 - val_acc: 0.5862\n",
            "Epoch 26/50\n",
            "7/7 [==============================] - 1s 123ms/step - loss: 0.6439 - acc: 0.7321 - val_loss: 0.8100 - val_acc: 0.6034\n",
            "Epoch 27/50\n",
            "7/7 [==============================] - 1s 152ms/step - loss: 0.5740 - acc: 0.8036 - val_loss: 0.9455 - val_acc: 0.5769\n",
            "Epoch 28/50\n",
            "7/7 [==============================] - 1s 83ms/step - loss: 0.5720 - acc: 0.7701 - val_loss: 0.7985 - val_acc: 0.6466\n",
            "Epoch 29/50\n",
            "7/7 [==============================] - 1s 132ms/step - loss: 0.5887 - acc: 0.7589 - val_loss: 0.8065 - val_acc: 0.6121\n",
            "Epoch 30/50\n",
            "7/7 [==============================] - 1s 149ms/step - loss: 0.6160 - acc: 0.7366 - val_loss: 0.9106 - val_acc: 0.6346\n",
            "Epoch 31/50\n",
            "7/7 [==============================] - 1s 102ms/step - loss: 0.5857 - acc: 0.7589 - val_loss: 0.8689 - val_acc: 0.5690\n",
            "Epoch 32/50\n",
            "7/7 [==============================] - 1s 130ms/step - loss: 0.5243 - acc: 0.7973 - val_loss: 0.7704 - val_acc: 0.6810\n",
            "Epoch 33/50\n",
            "7/7 [==============================] - 1s 139ms/step - loss: 0.4889 - acc: 0.8482 - val_loss: 0.8055 - val_acc: 0.5385\n",
            "Epoch 34/50\n",
            "7/7 [==============================] - 1s 120ms/step - loss: 0.4334 - acc: 0.8438 - val_loss: 0.7387 - val_acc: 0.6638\n",
            "Epoch 35/50\n",
            "7/7 [==============================] - 1s 114ms/step - loss: 0.5019 - acc: 0.7902 - val_loss: 0.8172 - val_acc: 0.6034\n",
            "Epoch 36/50\n",
            "7/7 [==============================] - 1s 110ms/step - loss: 0.5294 - acc: 0.7610 - val_loss: 0.8810 - val_acc: 0.6058\n",
            "Epoch 37/50\n",
            "7/7 [==============================] - 1s 133ms/step - loss: 0.4760 - acc: 0.8527 - val_loss: 0.7951 - val_acc: 0.5948\n",
            "Epoch 38/50\n",
            "7/7 [==============================] - 1s 136ms/step - loss: 0.4777 - acc: 0.8170 - val_loss: 0.7982 - val_acc: 0.6121\n",
            "Epoch 39/50\n",
            "7/7 [==============================] - 1s 117ms/step - loss: 0.4784 - acc: 0.8335 - val_loss: 0.7933 - val_acc: 0.6250\n",
            "Epoch 40/50\n",
            "7/7 [==============================] - 1s 134ms/step - loss: 0.4412 - acc: 0.8331 - val_loss: 0.8048 - val_acc: 0.6552\n",
            "Epoch 41/50\n",
            "7/7 [==============================] - 1s 131ms/step - loss: 0.4094 - acc: 0.8705 - val_loss: 0.8481 - val_acc: 0.6379\n",
            "Epoch 42/50\n",
            "7/7 [==============================] - 1s 121ms/step - loss: 0.4240 - acc: 0.8438 - val_loss: 0.7765 - val_acc: 0.6154\n",
            "Epoch 43/50\n",
            "7/7 [==============================] - 1s 120ms/step - loss: 0.4600 - acc: 0.8378 - val_loss: 0.8544 - val_acc: 0.5690\n",
            "Epoch 44/50\n",
            "7/7 [==============================] - 1s 129ms/step - loss: 0.3647 - acc: 0.8973 - val_loss: 0.8574 - val_acc: 0.5862\n",
            "Epoch 45/50\n",
            "7/7 [==============================] - 1s 124ms/step - loss: 0.3684 - acc: 0.8571 - val_loss: 0.7503 - val_acc: 0.6346\n",
            "Epoch 46/50\n",
            "7/7 [==============================] - 1s 96ms/step - loss: 0.4027 - acc: 0.8661 - val_loss: 0.9034 - val_acc: 0.6121\n",
            "Epoch 47/50\n",
            "7/7 [==============================] - 1s 142ms/step - loss: 0.3279 - acc: 0.8739 - val_loss: 0.8142 - val_acc: 0.6724\n",
            "Epoch 48/50\n",
            "7/7 [==============================] - 1s 118ms/step - loss: 0.3050 - acc: 0.9375 - val_loss: 0.7456 - val_acc: 0.6346\n",
            "Epoch 49/50\n",
            "7/7 [==============================] - 1s 117ms/step - loss: 0.3558 - acc: 0.8884 - val_loss: 0.7280 - val_acc: 0.6552\n",
            "Epoch 50/50\n",
            "7/7 [==============================] - 1s 120ms/step - loss: 0.3275 - acc: 0.8874 - val_loss: 0.7839 - val_acc: 0.6552\n"
          ],
          "name": "stdout"
        }
      ]
    },
    {
      "cell_type": "code",
      "metadata": {
        "id": "wrkRgA8LMbmo",
        "colab_type": "code",
        "outputId": "4a6a10ac-3848-4b54-b603-c60df1e85a52",
        "colab": {
          "base_uri": "https://localhost:8080/",
          "height": 265
        }
      },
      "source": [
        "acc = history.history['acc']\n",
        "val_acc = history.history['val_acc']\n",
        "loss = history.history['loss']\n",
        "val_loss = history.history['val_loss']\n",
        "\n",
        "plt.plot(acc, label = \"Accuracy\")\n",
        "plt.plot(val_acc, label = \"Validation Accuracy\")\n",
        "plt.plot(loss, label = \"Loss\")\n",
        "plt.plot(val_loss, label = \"Validation Loss\")\n",
        "plt.legend()\n",
        "plt.show()\n"
      ],
      "execution_count": 0,
      "outputs": [
        {
          "output_type": "display_data",
          "data": {
            "image/png": "[encoded data removed]",
            "text/plain": [
              "<Figure size 432x288 with 1 Axes>"
            ]
          },
          "metadata": {
            "tags": []
          }
        }
      ]
    },
    {
      "cell_type": "code",
      "metadata": {
        "id": "d3kZs9rxPzZ7",
        "colab_type": "code",
        "colab": {}
      },
      "source": [
        ""
      ],
      "execution_count": 0,
      "outputs": []
    }
  ]
}